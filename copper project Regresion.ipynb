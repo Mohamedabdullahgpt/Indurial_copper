{
 "cells": [
  {
   "cell_type": "code",
   "execution_count": 1,
   "id": "9e7e84ba",
   "metadata": {},
   "outputs": [],
   "source": [
    "import pandas as pd\n",
    "import numpy  as np\n",
    "import matplotlib.pyplot as pltg"
   ]
  },
  {
   "cell_type": "code",
   "execution_count": 2,
   "id": "cd65c661",
   "metadata": {},
   "outputs": [
    {
     "name": "stderr",
     "output_type": "stream",
     "text": [
      "C:\\Users\\Harish\\AppData\\Local\\Temp\\ipykernel_13388\\3338862506.py:1: DtypeWarning: Columns (2) have mixed types. Specify dtype option on import or set low_memory=False.\n",
      "  df = pd.read_csv('Copper_Set.xlsx - Result 1 (1).csv')\n"
     ]
    }
   ],
   "source": [
    "df = pd.read_csv('Copper_Set.xlsx - Result 1 (1).csv')"
   ]
  },
  {
   "cell_type": "code",
   "execution_count": 3,
   "id": "ff077c2f",
   "metadata": {},
   "outputs": [
    {
     "data": {
      "text/html": [
       "<div>\n",
       "<style scoped>\n",
       "    .dataframe tbody tr th:only-of-type {\n",
       "        vertical-align: middle;\n",
       "    }\n",
       "\n",
       "    .dataframe tbody tr th {\n",
       "        vertical-align: top;\n",
       "    }\n",
       "\n",
       "    .dataframe thead th {\n",
       "        text-align: right;\n",
       "    }\n",
       "</style>\n",
       "<table border=\"1\" class=\"dataframe\">\n",
       "  <thead>\n",
       "    <tr style=\"text-align: right;\">\n",
       "      <th></th>\n",
       "      <th>id</th>\n",
       "      <th>item_date</th>\n",
       "      <th>quantity tons</th>\n",
       "      <th>customer</th>\n",
       "      <th>country</th>\n",
       "      <th>status</th>\n",
       "      <th>item type</th>\n",
       "      <th>application</th>\n",
       "      <th>thickness</th>\n",
       "      <th>width</th>\n",
       "      <th>material_ref</th>\n",
       "      <th>product_ref</th>\n",
       "      <th>delivery date</th>\n",
       "      <th>selling_price</th>\n",
       "    </tr>\n",
       "  </thead>\n",
       "  <tbody>\n",
       "    <tr>\n",
       "      <th>0</th>\n",
       "      <td>EC06F063-9DF0-440C-8764-0B0C05A4F6AE</td>\n",
       "      <td>20210401.0</td>\n",
       "      <td>54.151139</td>\n",
       "      <td>30156308.0</td>\n",
       "      <td>28.0</td>\n",
       "      <td>Won</td>\n",
       "      <td>W</td>\n",
       "      <td>10.0</td>\n",
       "      <td>2.00</td>\n",
       "      <td>1500.0</td>\n",
       "      <td>DEQ1 S460MC</td>\n",
       "      <td>1670798778</td>\n",
       "      <td>20210701.0</td>\n",
       "      <td>854.00</td>\n",
       "    </tr>\n",
       "    <tr>\n",
       "      <th>1</th>\n",
       "      <td>4E5F4B3D-DDDF-499D-AFDE-A3227EC49425</td>\n",
       "      <td>20210401.0</td>\n",
       "      <td>768.024839</td>\n",
       "      <td>30202938.0</td>\n",
       "      <td>25.0</td>\n",
       "      <td>Won</td>\n",
       "      <td>W</td>\n",
       "      <td>41.0</td>\n",
       "      <td>0.80</td>\n",
       "      <td>1210.0</td>\n",
       "      <td>0000000000000000000000000000000000104991</td>\n",
       "      <td>1668701718</td>\n",
       "      <td>20210401.0</td>\n",
       "      <td>1047.00</td>\n",
       "    </tr>\n",
       "    <tr>\n",
       "      <th>2</th>\n",
       "      <td>E140FF1B-2407-4C02-A0DD-780A093B1158</td>\n",
       "      <td>20210401.0</td>\n",
       "      <td>386.127949</td>\n",
       "      <td>30153963.0</td>\n",
       "      <td>30.0</td>\n",
       "      <td>Won</td>\n",
       "      <td>WI</td>\n",
       "      <td>28.0</td>\n",
       "      <td>0.38</td>\n",
       "      <td>952.0</td>\n",
       "      <td>S0380700</td>\n",
       "      <td>628377</td>\n",
       "      <td>20210101.0</td>\n",
       "      <td>644.33</td>\n",
       "    </tr>\n",
       "    <tr>\n",
       "      <th>3</th>\n",
       "      <td>F8D507A0-9C62-4EFE-831E-33E1DA53BB50</td>\n",
       "      <td>20210401.0</td>\n",
       "      <td>202.411065</td>\n",
       "      <td>30349574.0</td>\n",
       "      <td>32.0</td>\n",
       "      <td>Won</td>\n",
       "      <td>S</td>\n",
       "      <td>59.0</td>\n",
       "      <td>2.30</td>\n",
       "      <td>1317.0</td>\n",
       "      <td>DX51D+ZM310MAO 2.3X1317</td>\n",
       "      <td>1668701718</td>\n",
       "      <td>20210101.0</td>\n",
       "      <td>768.00</td>\n",
       "    </tr>\n",
       "    <tr>\n",
       "      <th>4</th>\n",
       "      <td>4E1C4E78-152B-430A-8094-ADD889C9D0AD</td>\n",
       "      <td>20210401.0</td>\n",
       "      <td>785.526262</td>\n",
       "      <td>30211560.0</td>\n",
       "      <td>28.0</td>\n",
       "      <td>Won</td>\n",
       "      <td>W</td>\n",
       "      <td>10.0</td>\n",
       "      <td>4.00</td>\n",
       "      <td>2000.0</td>\n",
       "      <td>2_S275JR+AR-CL1</td>\n",
       "      <td>640665</td>\n",
       "      <td>20210301.0</td>\n",
       "      <td>577.00</td>\n",
       "    </tr>\n",
       "    <tr>\n",
       "      <th>...</th>\n",
       "      <td>...</td>\n",
       "      <td>...</td>\n",
       "      <td>...</td>\n",
       "      <td>...</td>\n",
       "      <td>...</td>\n",
       "      <td>...</td>\n",
       "      <td>...</td>\n",
       "      <td>...</td>\n",
       "      <td>...</td>\n",
       "      <td>...</td>\n",
       "      <td>...</td>\n",
       "      <td>...</td>\n",
       "      <td>...</td>\n",
       "      <td>...</td>\n",
       "    </tr>\n",
       "    <tr>\n",
       "      <th>181668</th>\n",
       "      <td>DE633116-D1DF-4846-982E-55EFC3658A76</td>\n",
       "      <td>20200702.0</td>\n",
       "      <td>102.4824216</td>\n",
       "      <td>30200854.0</td>\n",
       "      <td>25.0</td>\n",
       "      <td>Won</td>\n",
       "      <td>W</td>\n",
       "      <td>41.0</td>\n",
       "      <td>0.96</td>\n",
       "      <td>1220.0</td>\n",
       "      <td>0000000000000000000000000000000001000777</td>\n",
       "      <td>164141591</td>\n",
       "      <td>20200701.0</td>\n",
       "      <td>591.00</td>\n",
       "    </tr>\n",
       "    <tr>\n",
       "      <th>181669</th>\n",
       "      <td>A48374B1-E6DB-45F2-889A-1F9C27C099EB</td>\n",
       "      <td>20200702.0</td>\n",
       "      <td>208.0864686</td>\n",
       "      <td>30200854.0</td>\n",
       "      <td>25.0</td>\n",
       "      <td>Won</td>\n",
       "      <td>W</td>\n",
       "      <td>41.0</td>\n",
       "      <td>0.95</td>\n",
       "      <td>1500.0</td>\n",
       "      <td>0000000000000000000000000000000001000227</td>\n",
       "      <td>164141591</td>\n",
       "      <td>20200701.0</td>\n",
       "      <td>589.00</td>\n",
       "    </tr>\n",
       "    <tr>\n",
       "      <th>181670</th>\n",
       "      <td>91643238-5C7B-4237-9A5F-63AE3D35F320</td>\n",
       "      <td>20200702.0</td>\n",
       "      <td>4.235593568</td>\n",
       "      <td>30200854.0</td>\n",
       "      <td>25.0</td>\n",
       "      <td>Won</td>\n",
       "      <td>W</td>\n",
       "      <td>41.0</td>\n",
       "      <td>0.71</td>\n",
       "      <td>1250.0</td>\n",
       "      <td>0000000000000000000000000000000001004216</td>\n",
       "      <td>164141591</td>\n",
       "      <td>20200701.0</td>\n",
       "      <td>619.00</td>\n",
       "    </tr>\n",
       "    <tr>\n",
       "      <th>181671</th>\n",
       "      <td>7AFFD323-01D9-4E15-B80D-7D1B03498FC8</td>\n",
       "      <td>20200702.0</td>\n",
       "      <td>-2000</td>\n",
       "      <td>30200854.0</td>\n",
       "      <td>25.0</td>\n",
       "      <td>Won</td>\n",
       "      <td>W</td>\n",
       "      <td>41.0</td>\n",
       "      <td>0.85</td>\n",
       "      <td>1250.0</td>\n",
       "      <td>0000000000000000000000000000000001001149</td>\n",
       "      <td>164141591</td>\n",
       "      <td>20200701.0</td>\n",
       "      <td>601.00</td>\n",
       "    </tr>\n",
       "    <tr>\n",
       "      <th>181672</th>\n",
       "      <td>AD0CA853-AE3C-4B2F-9FBB-8B0B965F84BC</td>\n",
       "      <td>20200702.0</td>\n",
       "      <td>406.6865384</td>\n",
       "      <td>30200854.0</td>\n",
       "      <td>25.0</td>\n",
       "      <td>Won</td>\n",
       "      <td>W</td>\n",
       "      <td>41.0</td>\n",
       "      <td>0.71</td>\n",
       "      <td>1240.0</td>\n",
       "      <td>0000000000000000000000000000000001005439</td>\n",
       "      <td>164141591</td>\n",
       "      <td>20200701.0</td>\n",
       "      <td>607.00</td>\n",
       "    </tr>\n",
       "  </tbody>\n",
       "</table>\n",
       "<p>181673 rows × 14 columns</p>\n",
       "</div>"
      ],
      "text/plain": [
       "                                          id   item_date quantity tons   \n",
       "0       EC06F063-9DF0-440C-8764-0B0C05A4F6AE  20210401.0     54.151139  \\\n",
       "1       4E5F4B3D-DDDF-499D-AFDE-A3227EC49425  20210401.0    768.024839   \n",
       "2       E140FF1B-2407-4C02-A0DD-780A093B1158  20210401.0    386.127949   \n",
       "3       F8D507A0-9C62-4EFE-831E-33E1DA53BB50  20210401.0    202.411065   \n",
       "4       4E1C4E78-152B-430A-8094-ADD889C9D0AD  20210401.0    785.526262   \n",
       "...                                      ...         ...           ...   \n",
       "181668  DE633116-D1DF-4846-982E-55EFC3658A76  20200702.0   102.4824216   \n",
       "181669  A48374B1-E6DB-45F2-889A-1F9C27C099EB  20200702.0   208.0864686   \n",
       "181670  91643238-5C7B-4237-9A5F-63AE3D35F320  20200702.0   4.235593568   \n",
       "181671  7AFFD323-01D9-4E15-B80D-7D1B03498FC8  20200702.0         -2000   \n",
       "181672  AD0CA853-AE3C-4B2F-9FBB-8B0B965F84BC  20200702.0   406.6865384   \n",
       "\n",
       "          customer  country status item type  application  thickness   width   \n",
       "0       30156308.0     28.0    Won         W         10.0       2.00  1500.0  \\\n",
       "1       30202938.0     25.0    Won         W         41.0       0.80  1210.0   \n",
       "2       30153963.0     30.0    Won        WI         28.0       0.38   952.0   \n",
       "3       30349574.0     32.0    Won         S         59.0       2.30  1317.0   \n",
       "4       30211560.0     28.0    Won         W         10.0       4.00  2000.0   \n",
       "...            ...      ...    ...       ...          ...        ...     ...   \n",
       "181668  30200854.0     25.0    Won         W         41.0       0.96  1220.0   \n",
       "181669  30200854.0     25.0    Won         W         41.0       0.95  1500.0   \n",
       "181670  30200854.0     25.0    Won         W         41.0       0.71  1250.0   \n",
       "181671  30200854.0     25.0    Won         W         41.0       0.85  1250.0   \n",
       "181672  30200854.0     25.0    Won         W         41.0       0.71  1240.0   \n",
       "\n",
       "                                    material_ref  product_ref  delivery date   \n",
       "0                                    DEQ1 S460MC   1670798778     20210701.0  \\\n",
       "1       0000000000000000000000000000000000104991   1668701718     20210401.0   \n",
       "2                                       S0380700       628377     20210101.0   \n",
       "3                        DX51D+ZM310MAO 2.3X1317   1668701718     20210101.0   \n",
       "4                                2_S275JR+AR-CL1       640665     20210301.0   \n",
       "...                                          ...          ...            ...   \n",
       "181668  0000000000000000000000000000000001000777    164141591     20200701.0   \n",
       "181669  0000000000000000000000000000000001000227    164141591     20200701.0   \n",
       "181670  0000000000000000000000000000000001004216    164141591     20200701.0   \n",
       "181671  0000000000000000000000000000000001001149    164141591     20200701.0   \n",
       "181672  0000000000000000000000000000000001005439    164141591     20200701.0   \n",
       "\n",
       "        selling_price  \n",
       "0              854.00  \n",
       "1             1047.00  \n",
       "2              644.33  \n",
       "3              768.00  \n",
       "4              577.00  \n",
       "...               ...  \n",
       "181668         591.00  \n",
       "181669         589.00  \n",
       "181670         619.00  \n",
       "181671         601.00  \n",
       "181672         607.00  \n",
       "\n",
       "[181673 rows x 14 columns]"
      ]
     },
     "execution_count": 3,
     "metadata": {},
     "output_type": "execute_result"
    }
   ],
   "source": [
    "df"
   ]
  },
  {
   "cell_type": "code",
   "execution_count": 4,
   "id": "dea86274",
   "metadata": {},
   "outputs": [
    {
     "data": {
      "text/plain": [
       "id                   2\n",
       "item_date            1\n",
       "quantity tons        0\n",
       "customer             1\n",
       "country             28\n",
       "status               2\n",
       "item type            0\n",
       "application         24\n",
       "thickness            1\n",
       "width                0\n",
       "material_ref     77919\n",
       "product_ref          0\n",
       "delivery date        1\n",
       "selling_price        1\n",
       "dtype: int64"
      ]
     },
     "execution_count": 4,
     "metadata": {},
     "output_type": "execute_result"
    }
   ],
   "source": [
    "df.isnull().sum()"
   ]
  },
  {
   "cell_type": "code",
   "execution_count": 5,
   "id": "a6b850fb",
   "metadata": {},
   "outputs": [],
   "source": [
    "material_null=df['material_ref'].str.startswith(\"000000\")\n",
    "replace_null=(material_null==True)\n",
    "\n",
    "df.loc[replace_null, 'material_ref'] = np.NaN\n"
   ]
  },
  {
   "cell_type": "code",
   "execution_count": 6,
   "id": "a42ee635",
   "metadata": {},
   "outputs": [
    {
     "data": {
      "text/plain": [
       "id                    2\n",
       "item_date             1\n",
       "quantity tons         0\n",
       "customer              1\n",
       "country              28\n",
       "status                2\n",
       "item type             0\n",
       "application          24\n",
       "thickness             1\n",
       "width                 0\n",
       "material_ref     100645\n",
       "product_ref           0\n",
       "delivery date         1\n",
       "selling_price         1\n",
       "dtype: int64"
      ]
     },
     "execution_count": 6,
     "metadata": {},
     "output_type": "execute_result"
    }
   ],
   "source": [
    "df.isnull().sum()"
   ]
  },
  {
   "cell_type": "code",
   "execution_count": 7,
   "id": "dd019c16",
   "metadata": {},
   "outputs": [
    {
     "data": {
      "text/html": [
       "<div>\n",
       "<style scoped>\n",
       "    .dataframe tbody tr th:only-of-type {\n",
       "        vertical-align: middle;\n",
       "    }\n",
       "\n",
       "    .dataframe tbody tr th {\n",
       "        vertical-align: top;\n",
       "    }\n",
       "\n",
       "    .dataframe thead th {\n",
       "        text-align: right;\n",
       "    }\n",
       "</style>\n",
       "<table border=\"1\" class=\"dataframe\">\n",
       "  <thead>\n",
       "    <tr style=\"text-align: right;\">\n",
       "      <th></th>\n",
       "      <th>id</th>\n",
       "      <th>item_date</th>\n",
       "      <th>quantity tons</th>\n",
       "      <th>customer</th>\n",
       "      <th>country</th>\n",
       "      <th>status</th>\n",
       "      <th>item type</th>\n",
       "      <th>application</th>\n",
       "      <th>thickness</th>\n",
       "      <th>width</th>\n",
       "      <th>material_ref</th>\n",
       "      <th>product_ref</th>\n",
       "      <th>delivery date</th>\n",
       "      <th>selling_price</th>\n",
       "    </tr>\n",
       "  </thead>\n",
       "  <tbody>\n",
       "    <tr>\n",
       "      <th>0</th>\n",
       "      <td>EC06F063-9DF0-440C-8764-0B0C05A4F6AE</td>\n",
       "      <td>20210401.0</td>\n",
       "      <td>54.151139</td>\n",
       "      <td>30156308.0</td>\n",
       "      <td>28.0</td>\n",
       "      <td>Won</td>\n",
       "      <td>W</td>\n",
       "      <td>10.0</td>\n",
       "      <td>2.00</td>\n",
       "      <td>1500.0</td>\n",
       "      <td>DEQ1 S460MC</td>\n",
       "      <td>1670798778</td>\n",
       "      <td>20210701.0</td>\n",
       "      <td>854.00</td>\n",
       "    </tr>\n",
       "    <tr>\n",
       "      <th>1</th>\n",
       "      <td>4E5F4B3D-DDDF-499D-AFDE-A3227EC49425</td>\n",
       "      <td>20210401.0</td>\n",
       "      <td>768.024839</td>\n",
       "      <td>30202938.0</td>\n",
       "      <td>25.0</td>\n",
       "      <td>Won</td>\n",
       "      <td>W</td>\n",
       "      <td>41.0</td>\n",
       "      <td>0.80</td>\n",
       "      <td>1210.0</td>\n",
       "      <td>NaN</td>\n",
       "      <td>1668701718</td>\n",
       "      <td>20210401.0</td>\n",
       "      <td>1047.00</td>\n",
       "    </tr>\n",
       "    <tr>\n",
       "      <th>2</th>\n",
       "      <td>E140FF1B-2407-4C02-A0DD-780A093B1158</td>\n",
       "      <td>20210401.0</td>\n",
       "      <td>386.127949</td>\n",
       "      <td>30153963.0</td>\n",
       "      <td>30.0</td>\n",
       "      <td>Won</td>\n",
       "      <td>WI</td>\n",
       "      <td>28.0</td>\n",
       "      <td>0.38</td>\n",
       "      <td>952.0</td>\n",
       "      <td>S0380700</td>\n",
       "      <td>628377</td>\n",
       "      <td>20210101.0</td>\n",
       "      <td>644.33</td>\n",
       "    </tr>\n",
       "    <tr>\n",
       "      <th>3</th>\n",
       "      <td>F8D507A0-9C62-4EFE-831E-33E1DA53BB50</td>\n",
       "      <td>20210401.0</td>\n",
       "      <td>202.411065</td>\n",
       "      <td>30349574.0</td>\n",
       "      <td>32.0</td>\n",
       "      <td>Won</td>\n",
       "      <td>S</td>\n",
       "      <td>59.0</td>\n",
       "      <td>2.30</td>\n",
       "      <td>1317.0</td>\n",
       "      <td>DX51D+ZM310MAO 2.3X1317</td>\n",
       "      <td>1668701718</td>\n",
       "      <td>20210101.0</td>\n",
       "      <td>768.00</td>\n",
       "    </tr>\n",
       "    <tr>\n",
       "      <th>4</th>\n",
       "      <td>4E1C4E78-152B-430A-8094-ADD889C9D0AD</td>\n",
       "      <td>20210401.0</td>\n",
       "      <td>785.526262</td>\n",
       "      <td>30211560.0</td>\n",
       "      <td>28.0</td>\n",
       "      <td>Won</td>\n",
       "      <td>W</td>\n",
       "      <td>10.0</td>\n",
       "      <td>4.00</td>\n",
       "      <td>2000.0</td>\n",
       "      <td>2_S275JR+AR-CL1</td>\n",
       "      <td>640665</td>\n",
       "      <td>20210301.0</td>\n",
       "      <td>577.00</td>\n",
       "    </tr>\n",
       "    <tr>\n",
       "      <th>...</th>\n",
       "      <td>...</td>\n",
       "      <td>...</td>\n",
       "      <td>...</td>\n",
       "      <td>...</td>\n",
       "      <td>...</td>\n",
       "      <td>...</td>\n",
       "      <td>...</td>\n",
       "      <td>...</td>\n",
       "      <td>...</td>\n",
       "      <td>...</td>\n",
       "      <td>...</td>\n",
       "      <td>...</td>\n",
       "      <td>...</td>\n",
       "      <td>...</td>\n",
       "    </tr>\n",
       "    <tr>\n",
       "      <th>181668</th>\n",
       "      <td>DE633116-D1DF-4846-982E-55EFC3658A76</td>\n",
       "      <td>20200702.0</td>\n",
       "      <td>102.4824216</td>\n",
       "      <td>30200854.0</td>\n",
       "      <td>25.0</td>\n",
       "      <td>Won</td>\n",
       "      <td>W</td>\n",
       "      <td>41.0</td>\n",
       "      <td>0.96</td>\n",
       "      <td>1220.0</td>\n",
       "      <td>NaN</td>\n",
       "      <td>164141591</td>\n",
       "      <td>20200701.0</td>\n",
       "      <td>591.00</td>\n",
       "    </tr>\n",
       "    <tr>\n",
       "      <th>181669</th>\n",
       "      <td>A48374B1-E6DB-45F2-889A-1F9C27C099EB</td>\n",
       "      <td>20200702.0</td>\n",
       "      <td>208.0864686</td>\n",
       "      <td>30200854.0</td>\n",
       "      <td>25.0</td>\n",
       "      <td>Won</td>\n",
       "      <td>W</td>\n",
       "      <td>41.0</td>\n",
       "      <td>0.95</td>\n",
       "      <td>1500.0</td>\n",
       "      <td>NaN</td>\n",
       "      <td>164141591</td>\n",
       "      <td>20200701.0</td>\n",
       "      <td>589.00</td>\n",
       "    </tr>\n",
       "    <tr>\n",
       "      <th>181670</th>\n",
       "      <td>91643238-5C7B-4237-9A5F-63AE3D35F320</td>\n",
       "      <td>20200702.0</td>\n",
       "      <td>4.235593568</td>\n",
       "      <td>30200854.0</td>\n",
       "      <td>25.0</td>\n",
       "      <td>Won</td>\n",
       "      <td>W</td>\n",
       "      <td>41.0</td>\n",
       "      <td>0.71</td>\n",
       "      <td>1250.0</td>\n",
       "      <td>NaN</td>\n",
       "      <td>164141591</td>\n",
       "      <td>20200701.0</td>\n",
       "      <td>619.00</td>\n",
       "    </tr>\n",
       "    <tr>\n",
       "      <th>181671</th>\n",
       "      <td>7AFFD323-01D9-4E15-B80D-7D1B03498FC8</td>\n",
       "      <td>20200702.0</td>\n",
       "      <td>-2000</td>\n",
       "      <td>30200854.0</td>\n",
       "      <td>25.0</td>\n",
       "      <td>Won</td>\n",
       "      <td>W</td>\n",
       "      <td>41.0</td>\n",
       "      <td>0.85</td>\n",
       "      <td>1250.0</td>\n",
       "      <td>NaN</td>\n",
       "      <td>164141591</td>\n",
       "      <td>20200701.0</td>\n",
       "      <td>601.00</td>\n",
       "    </tr>\n",
       "    <tr>\n",
       "      <th>181672</th>\n",
       "      <td>AD0CA853-AE3C-4B2F-9FBB-8B0B965F84BC</td>\n",
       "      <td>20200702.0</td>\n",
       "      <td>406.6865384</td>\n",
       "      <td>30200854.0</td>\n",
       "      <td>25.0</td>\n",
       "      <td>Won</td>\n",
       "      <td>W</td>\n",
       "      <td>41.0</td>\n",
       "      <td>0.71</td>\n",
       "      <td>1240.0</td>\n",
       "      <td>NaN</td>\n",
       "      <td>164141591</td>\n",
       "      <td>20200701.0</td>\n",
       "      <td>607.00</td>\n",
       "    </tr>\n",
       "  </tbody>\n",
       "</table>\n",
       "<p>181673 rows × 14 columns</p>\n",
       "</div>"
      ],
      "text/plain": [
       "                                          id   item_date quantity tons   \n",
       "0       EC06F063-9DF0-440C-8764-0B0C05A4F6AE  20210401.0     54.151139  \\\n",
       "1       4E5F4B3D-DDDF-499D-AFDE-A3227EC49425  20210401.0    768.024839   \n",
       "2       E140FF1B-2407-4C02-A0DD-780A093B1158  20210401.0    386.127949   \n",
       "3       F8D507A0-9C62-4EFE-831E-33E1DA53BB50  20210401.0    202.411065   \n",
       "4       4E1C4E78-152B-430A-8094-ADD889C9D0AD  20210401.0    785.526262   \n",
       "...                                      ...         ...           ...   \n",
       "181668  DE633116-D1DF-4846-982E-55EFC3658A76  20200702.0   102.4824216   \n",
       "181669  A48374B1-E6DB-45F2-889A-1F9C27C099EB  20200702.0   208.0864686   \n",
       "181670  91643238-5C7B-4237-9A5F-63AE3D35F320  20200702.0   4.235593568   \n",
       "181671  7AFFD323-01D9-4E15-B80D-7D1B03498FC8  20200702.0         -2000   \n",
       "181672  AD0CA853-AE3C-4B2F-9FBB-8B0B965F84BC  20200702.0   406.6865384   \n",
       "\n",
       "          customer  country status item type  application  thickness   width   \n",
       "0       30156308.0     28.0    Won         W         10.0       2.00  1500.0  \\\n",
       "1       30202938.0     25.0    Won         W         41.0       0.80  1210.0   \n",
       "2       30153963.0     30.0    Won        WI         28.0       0.38   952.0   \n",
       "3       30349574.0     32.0    Won         S         59.0       2.30  1317.0   \n",
       "4       30211560.0     28.0    Won         W         10.0       4.00  2000.0   \n",
       "...            ...      ...    ...       ...          ...        ...     ...   \n",
       "181668  30200854.0     25.0    Won         W         41.0       0.96  1220.0   \n",
       "181669  30200854.0     25.0    Won         W         41.0       0.95  1500.0   \n",
       "181670  30200854.0     25.0    Won         W         41.0       0.71  1250.0   \n",
       "181671  30200854.0     25.0    Won         W         41.0       0.85  1250.0   \n",
       "181672  30200854.0     25.0    Won         W         41.0       0.71  1240.0   \n",
       "\n",
       "                   material_ref  product_ref  delivery date  selling_price  \n",
       "0                   DEQ1 S460MC   1670798778     20210701.0         854.00  \n",
       "1                           NaN   1668701718     20210401.0        1047.00  \n",
       "2                      S0380700       628377     20210101.0         644.33  \n",
       "3       DX51D+ZM310MAO 2.3X1317   1668701718     20210101.0         768.00  \n",
       "4               2_S275JR+AR-CL1       640665     20210301.0         577.00  \n",
       "...                         ...          ...            ...            ...  \n",
       "181668                      NaN    164141591     20200701.0         591.00  \n",
       "181669                      NaN    164141591     20200701.0         589.00  \n",
       "181670                      NaN    164141591     20200701.0         619.00  \n",
       "181671                      NaN    164141591     20200701.0         601.00  \n",
       "181672                      NaN    164141591     20200701.0         607.00  \n",
       "\n",
       "[181673 rows x 14 columns]"
      ]
     },
     "execution_count": 7,
     "metadata": {},
     "output_type": "execute_result"
    }
   ],
   "source": [
    "df"
   ]
  },
  {
   "cell_type": "code",
   "execution_count": 8,
   "id": "d908aa76",
   "metadata": {},
   "outputs": [],
   "source": [
    "df.dropna(subset=['material_ref','country','id','status','quantity tons' ], inplace=True)\n"
   ]
  },
  {
   "cell_type": "code",
   "execution_count": 9,
   "id": "9cb31f3e",
   "metadata": {},
   "outputs": [
    {
     "data": {
      "text/plain": [
       "id               0\n",
       "item_date        0\n",
       "quantity tons    0\n",
       "customer         0\n",
       "country          0\n",
       "status           0\n",
       "item type        0\n",
       "application      0\n",
       "thickness        0\n",
       "width            0\n",
       "material_ref     0\n",
       "product_ref      0\n",
       "delivery date    0\n",
       "selling_price    0\n",
       "dtype: int64"
      ]
     },
     "execution_count": 9,
     "metadata": {},
     "output_type": "execute_result"
    }
   ],
   "source": [
    "df.isnull().sum()"
   ]
  },
  {
   "cell_type": "code",
   "execution_count": 10,
   "id": "0b926b12",
   "metadata": {},
   "outputs": [],
   "source": [
    "df['item_date'] = pd.to_datetime(df['item_date'])\n",
    "df['delivery date'] = pd.to_datetime(df['delivery date'])"
   ]
  },
  {
   "cell_type": "code",
   "execution_count": 11,
   "id": "01356c0a",
   "metadata": {},
   "outputs": [
    {
     "data": {
      "text/html": [
       "<div>\n",
       "<style scoped>\n",
       "    .dataframe tbody tr th:only-of-type {\n",
       "        vertical-align: middle;\n",
       "    }\n",
       "\n",
       "    .dataframe tbody tr th {\n",
       "        vertical-align: top;\n",
       "    }\n",
       "\n",
       "    .dataframe thead th {\n",
       "        text-align: right;\n",
       "    }\n",
       "</style>\n",
       "<table border=\"1\" class=\"dataframe\">\n",
       "  <thead>\n",
       "    <tr style=\"text-align: right;\">\n",
       "      <th></th>\n",
       "      <th>id</th>\n",
       "      <th>item_date</th>\n",
       "      <th>quantity tons</th>\n",
       "      <th>customer</th>\n",
       "      <th>country</th>\n",
       "      <th>status</th>\n",
       "      <th>item type</th>\n",
       "      <th>application</th>\n",
       "      <th>thickness</th>\n",
       "      <th>width</th>\n",
       "      <th>material_ref</th>\n",
       "      <th>product_ref</th>\n",
       "      <th>delivery date</th>\n",
       "      <th>selling_price</th>\n",
       "    </tr>\n",
       "  </thead>\n",
       "  <tbody>\n",
       "    <tr>\n",
       "      <th>0</th>\n",
       "      <td>EC06F063-9DF0-440C-8764-0B0C05A4F6AE</td>\n",
       "      <td>1970-01-01 00:00:00.020210401</td>\n",
       "      <td>54.151139</td>\n",
       "      <td>30156308.0</td>\n",
       "      <td>28.0</td>\n",
       "      <td>Won</td>\n",
       "      <td>W</td>\n",
       "      <td>10.0</td>\n",
       "      <td>2.00</td>\n",
       "      <td>1500.0</td>\n",
       "      <td>DEQ1 S460MC</td>\n",
       "      <td>1670798778</td>\n",
       "      <td>1970-01-01 00:00:00.020210701</td>\n",
       "      <td>854.00</td>\n",
       "    </tr>\n",
       "    <tr>\n",
       "      <th>2</th>\n",
       "      <td>E140FF1B-2407-4C02-A0DD-780A093B1158</td>\n",
       "      <td>1970-01-01 00:00:00.020210401</td>\n",
       "      <td>386.127949</td>\n",
       "      <td>30153963.0</td>\n",
       "      <td>30.0</td>\n",
       "      <td>Won</td>\n",
       "      <td>WI</td>\n",
       "      <td>28.0</td>\n",
       "      <td>0.38</td>\n",
       "      <td>952.0</td>\n",
       "      <td>S0380700</td>\n",
       "      <td>628377</td>\n",
       "      <td>1970-01-01 00:00:00.020210101</td>\n",
       "      <td>644.33</td>\n",
       "    </tr>\n",
       "    <tr>\n",
       "      <th>3</th>\n",
       "      <td>F8D507A0-9C62-4EFE-831E-33E1DA53BB50</td>\n",
       "      <td>1970-01-01 00:00:00.020210401</td>\n",
       "      <td>202.411065</td>\n",
       "      <td>30349574.0</td>\n",
       "      <td>32.0</td>\n",
       "      <td>Won</td>\n",
       "      <td>S</td>\n",
       "      <td>59.0</td>\n",
       "      <td>2.30</td>\n",
       "      <td>1317.0</td>\n",
       "      <td>DX51D+ZM310MAO 2.3X1317</td>\n",
       "      <td>1668701718</td>\n",
       "      <td>1970-01-01 00:00:00.020210101</td>\n",
       "      <td>768.00</td>\n",
       "    </tr>\n",
       "    <tr>\n",
       "      <th>4</th>\n",
       "      <td>4E1C4E78-152B-430A-8094-ADD889C9D0AD</td>\n",
       "      <td>1970-01-01 00:00:00.020210401</td>\n",
       "      <td>785.526262</td>\n",
       "      <td>30211560.0</td>\n",
       "      <td>28.0</td>\n",
       "      <td>Won</td>\n",
       "      <td>W</td>\n",
       "      <td>10.0</td>\n",
       "      <td>4.00</td>\n",
       "      <td>2000.0</td>\n",
       "      <td>2_S275JR+AR-CL1</td>\n",
       "      <td>640665</td>\n",
       "      <td>1970-01-01 00:00:00.020210301</td>\n",
       "      <td>577.00</td>\n",
       "    </tr>\n",
       "    <tr>\n",
       "      <th>6</th>\n",
       "      <td>E1B47219-42C8-411D-AE46-AD5256DC4757</td>\n",
       "      <td>1970-01-01 00:00:00.020210401</td>\n",
       "      <td>3.522613</td>\n",
       "      <td>30209509.0</td>\n",
       "      <td>30.0</td>\n",
       "      <td>Draft</td>\n",
       "      <td>W</td>\n",
       "      <td>41.0</td>\n",
       "      <td>0.38</td>\n",
       "      <td>1125.0</td>\n",
       "      <td>NBW_L+_A_1125_0.4</td>\n",
       "      <td>611993</td>\n",
       "      <td>1970-01-01 00:00:00.020210701</td>\n",
       "      <td>18.00</td>\n",
       "    </tr>\n",
       "    <tr>\n",
       "      <th>...</th>\n",
       "      <td>...</td>\n",
       "      <td>...</td>\n",
       "      <td>...</td>\n",
       "      <td>...</td>\n",
       "      <td>...</td>\n",
       "      <td>...</td>\n",
       "      <td>...</td>\n",
       "      <td>...</td>\n",
       "      <td>...</td>\n",
       "      <td>...</td>\n",
       "      <td>...</td>\n",
       "      <td>...</td>\n",
       "      <td>...</td>\n",
       "      <td>...</td>\n",
       "    </tr>\n",
       "    <tr>\n",
       "      <th>181601</th>\n",
       "      <td>9520F0DD-4EA3-4D35-B23A-35908C5E77CA</td>\n",
       "      <td>1970-01-01 00:00:00.020200702</td>\n",
       "      <td>3.739725626</td>\n",
       "      <td>30267349.0</td>\n",
       "      <td>84.0</td>\n",
       "      <td>Revised</td>\n",
       "      <td>W</td>\n",
       "      <td>10.0</td>\n",
       "      <td>2.00</td>\n",
       "      <td>1500.0</td>\n",
       "      <td>1S220A100P6FSB</td>\n",
       "      <td>164141591</td>\n",
       "      <td>1970-01-01 00:00:00.020200701</td>\n",
       "      <td>622.81</td>\n",
       "    </tr>\n",
       "    <tr>\n",
       "      <th>181602</th>\n",
       "      <td>D85912F7-0002-4EC5-9CFD-AD3803F44D91</td>\n",
       "      <td>1970-01-01 00:00:00.020200702</td>\n",
       "      <td>20.15511929</td>\n",
       "      <td>30267349.0</td>\n",
       "      <td>84.0</td>\n",
       "      <td>Revised</td>\n",
       "      <td>W</td>\n",
       "      <td>10.0</td>\n",
       "      <td>2.00</td>\n",
       "      <td>1500.0</td>\n",
       "      <td>1S220A100P6FSA</td>\n",
       "      <td>164141591</td>\n",
       "      <td>1970-01-01 00:00:00.020200701</td>\n",
       "      <td>619.81</td>\n",
       "    </tr>\n",
       "    <tr>\n",
       "      <th>181603</th>\n",
       "      <td>E6A94878-F80E-4852-A217-928D6D9C4A28</td>\n",
       "      <td>1970-01-01 00:00:00.020200702</td>\n",
       "      <td>15.74226571</td>\n",
       "      <td>30267349.0</td>\n",
       "      <td>84.0</td>\n",
       "      <td>Revised</td>\n",
       "      <td>W</td>\n",
       "      <td>10.0</td>\n",
       "      <td>2.00</td>\n",
       "      <td>1000.0</td>\n",
       "      <td>1S220A100P6FSA</td>\n",
       "      <td>164141591</td>\n",
       "      <td>1970-01-01 00:00:00.020200701</td>\n",
       "      <td>628.52</td>\n",
       "    </tr>\n",
       "    <tr>\n",
       "      <th>181604</th>\n",
       "      <td>B40F8127-D4AC-44B6-B200-FED2690EA8EF</td>\n",
       "      <td>1970-01-01 00:00:00.020200702</td>\n",
       "      <td>16.39100871</td>\n",
       "      <td>30267349.0</td>\n",
       "      <td>84.0</td>\n",
       "      <td>Revised</td>\n",
       "      <td>W</td>\n",
       "      <td>10.0</td>\n",
       "      <td>2.00</td>\n",
       "      <td>1250.0</td>\n",
       "      <td>1S220A100P6FSA</td>\n",
       "      <td>164141591</td>\n",
       "      <td>1970-01-01 00:00:00.020200701</td>\n",
       "      <td>615.81</td>\n",
       "    </tr>\n",
       "    <tr>\n",
       "      <th>181605</th>\n",
       "      <td>3BCD0A7E-A2D9-40B1-8A86-35439AEDDFF3</td>\n",
       "      <td>1970-01-01 00:00:00.020200702</td>\n",
       "      <td>34.42679898</td>\n",
       "      <td>30201369.0</td>\n",
       "      <td>25.0</td>\n",
       "      <td>Won</td>\n",
       "      <td>S</td>\n",
       "      <td>41.0</td>\n",
       "      <td>0.60</td>\n",
       "      <td>1288.0</td>\n",
       "      <td>202006170005.IO.1.1</td>\n",
       "      <td>611993</td>\n",
       "      <td>1970-01-01 00:00:00.020200701</td>\n",
       "      <td>981.00</td>\n",
       "    </tr>\n",
       "  </tbody>\n",
       "</table>\n",
       "<p>81024 rows × 14 columns</p>\n",
       "</div>"
      ],
      "text/plain": [
       "                                          id                     item_date   \n",
       "0       EC06F063-9DF0-440C-8764-0B0C05A4F6AE 1970-01-01 00:00:00.020210401  \\\n",
       "2       E140FF1B-2407-4C02-A0DD-780A093B1158 1970-01-01 00:00:00.020210401   \n",
       "3       F8D507A0-9C62-4EFE-831E-33E1DA53BB50 1970-01-01 00:00:00.020210401   \n",
       "4       4E1C4E78-152B-430A-8094-ADD889C9D0AD 1970-01-01 00:00:00.020210401   \n",
       "6       E1B47219-42C8-411D-AE46-AD5256DC4757 1970-01-01 00:00:00.020210401   \n",
       "...                                      ...                           ...   \n",
       "181601  9520F0DD-4EA3-4D35-B23A-35908C5E77CA 1970-01-01 00:00:00.020200702   \n",
       "181602  D85912F7-0002-4EC5-9CFD-AD3803F44D91 1970-01-01 00:00:00.020200702   \n",
       "181603  E6A94878-F80E-4852-A217-928D6D9C4A28 1970-01-01 00:00:00.020200702   \n",
       "181604  B40F8127-D4AC-44B6-B200-FED2690EA8EF 1970-01-01 00:00:00.020200702   \n",
       "181605  3BCD0A7E-A2D9-40B1-8A86-35439AEDDFF3 1970-01-01 00:00:00.020200702   \n",
       "\n",
       "       quantity tons    customer  country   status item type  application   \n",
       "0          54.151139  30156308.0     28.0      Won         W         10.0  \\\n",
       "2         386.127949  30153963.0     30.0      Won        WI         28.0   \n",
       "3         202.411065  30349574.0     32.0      Won         S         59.0   \n",
       "4         785.526262  30211560.0     28.0      Won         W         10.0   \n",
       "6           3.522613  30209509.0     30.0    Draft         W         41.0   \n",
       "...              ...         ...      ...      ...       ...          ...   \n",
       "181601   3.739725626  30267349.0     84.0  Revised         W         10.0   \n",
       "181602   20.15511929  30267349.0     84.0  Revised         W         10.0   \n",
       "181603   15.74226571  30267349.0     84.0  Revised         W         10.0   \n",
       "181604   16.39100871  30267349.0     84.0  Revised         W         10.0   \n",
       "181605   34.42679898  30201369.0     25.0      Won         S         41.0   \n",
       "\n",
       "        thickness   width             material_ref  product_ref   \n",
       "0            2.00  1500.0              DEQ1 S460MC   1670798778  \\\n",
       "2            0.38   952.0                 S0380700       628377   \n",
       "3            2.30  1317.0  DX51D+ZM310MAO 2.3X1317   1668701718   \n",
       "4            4.00  2000.0          2_S275JR+AR-CL1       640665   \n",
       "6            0.38  1125.0        NBW_L+_A_1125_0.4       611993   \n",
       "...           ...     ...                      ...          ...   \n",
       "181601       2.00  1500.0           1S220A100P6FSB    164141591   \n",
       "181602       2.00  1500.0           1S220A100P6FSA    164141591   \n",
       "181603       2.00  1000.0           1S220A100P6FSA    164141591   \n",
       "181604       2.00  1250.0           1S220A100P6FSA    164141591   \n",
       "181605       0.60  1288.0      202006170005.IO.1.1       611993   \n",
       "\n",
       "                       delivery date  selling_price  \n",
       "0      1970-01-01 00:00:00.020210701         854.00  \n",
       "2      1970-01-01 00:00:00.020210101         644.33  \n",
       "3      1970-01-01 00:00:00.020210101         768.00  \n",
       "4      1970-01-01 00:00:00.020210301         577.00  \n",
       "6      1970-01-01 00:00:00.020210701          18.00  \n",
       "...                              ...            ...  \n",
       "181601 1970-01-01 00:00:00.020200701         622.81  \n",
       "181602 1970-01-01 00:00:00.020200701         619.81  \n",
       "181603 1970-01-01 00:00:00.020200701         628.52  \n",
       "181604 1970-01-01 00:00:00.020200701         615.81  \n",
       "181605 1970-01-01 00:00:00.020200701         981.00  \n",
       "\n",
       "[81024 rows x 14 columns]"
      ]
     },
     "execution_count": 11,
     "metadata": {},
     "output_type": "execute_result"
    }
   ],
   "source": [
    "df"
   ]
  },
  {
   "cell_type": "code",
   "execution_count": 12,
   "id": "fa6a35bd",
   "metadata": {},
   "outputs": [
    {
     "data": {
      "text/plain": [
       "id               0\n",
       "item_date        0\n",
       "quantity tons    0\n",
       "customer         0\n",
       "country          0\n",
       "status           0\n",
       "item type        0\n",
       "application      0\n",
       "thickness        0\n",
       "width            0\n",
       "material_ref     0\n",
       "product_ref      0\n",
       "delivery date    0\n",
       "selling_price    0\n",
       "dtype: int64"
      ]
     },
     "execution_count": 12,
     "metadata": {},
     "output_type": "execute_result"
    }
   ],
   "source": [
    "df.isnull().sum()"
   ]
  },
  {
   "cell_type": "code",
   "execution_count": 13,
   "id": "51c9b28c",
   "metadata": {},
   "outputs": [
    {
     "data": {
      "text/plain": [
       "id                       object\n",
       "item_date        datetime64[ns]\n",
       "quantity tons            object\n",
       "customer                float64\n",
       "country                 float64\n",
       "status                   object\n",
       "item type                object\n",
       "application             float64\n",
       "thickness               float64\n",
       "width                   float64\n",
       "material_ref             object\n",
       "product_ref               int64\n",
       "delivery date    datetime64[ns]\n",
       "selling_price           float64\n",
       "dtype: object"
      ]
     },
     "execution_count": 13,
     "metadata": {},
     "output_type": "execute_result"
    }
   ],
   "source": [
    "df.dtypes"
   ]
  },
  {
   "cell_type": "code",
   "execution_count": 14,
   "id": "8c5f2fca",
   "metadata": {},
   "outputs": [],
   "source": [
    "df['quantity tons'] = pd.to_numeric(df['quantity tons'], errors='coerce')\n"
   ]
  },
  {
   "cell_type": "code",
   "execution_count": 15,
   "id": "d59c5a35",
   "metadata": {},
   "outputs": [
    {
     "data": {
      "text/html": [
       "<div>\n",
       "<style scoped>\n",
       "    .dataframe tbody tr th:only-of-type {\n",
       "        vertical-align: middle;\n",
       "    }\n",
       "\n",
       "    .dataframe tbody tr th {\n",
       "        vertical-align: top;\n",
       "    }\n",
       "\n",
       "    .dataframe thead th {\n",
       "        text-align: right;\n",
       "    }\n",
       "</style>\n",
       "<table border=\"1\" class=\"dataframe\">\n",
       "  <thead>\n",
       "    <tr style=\"text-align: right;\">\n",
       "      <th></th>\n",
       "      <th>item_date</th>\n",
       "      <th>quantity tons</th>\n",
       "      <th>customer</th>\n",
       "      <th>country</th>\n",
       "      <th>application</th>\n",
       "      <th>thickness</th>\n",
       "      <th>width</th>\n",
       "      <th>product_ref</th>\n",
       "      <th>delivery date</th>\n",
       "      <th>selling_price</th>\n",
       "    </tr>\n",
       "  </thead>\n",
       "  <tbody>\n",
       "    <tr>\n",
       "      <th>count</th>\n",
       "      <td>81024</td>\n",
       "      <td>8.102400e+04</td>\n",
       "      <td>8.102400e+04</td>\n",
       "      <td>81024.000000</td>\n",
       "      <td>81024.000000</td>\n",
       "      <td>81024.000000</td>\n",
       "      <td>81024.000000</td>\n",
       "      <td>8.102400e+04</td>\n",
       "      <td>81024</td>\n",
       "      <td>81024.000000</td>\n",
       "    </tr>\n",
       "    <tr>\n",
       "      <th>mean</th>\n",
       "      <td>1970-01-01 00:00:00.020204619</td>\n",
       "      <td>1.244196e+04</td>\n",
       "      <td>3.022684e+07</td>\n",
       "      <td>45.627913</td>\n",
       "      <td>26.346786</td>\n",
       "      <td>2.298850</td>\n",
       "      <td>1287.291045</td>\n",
       "      <td>3.943268e+08</td>\n",
       "      <td>1970-01-01 00:00:00.020207053</td>\n",
       "      <td>804.297823</td>\n",
       "    </tr>\n",
       "    <tr>\n",
       "      <th>min</th>\n",
       "      <td>1970-01-01 00:00:00.019950</td>\n",
       "      <td>1.867763e-03</td>\n",
       "      <td>3.014772e+07</td>\n",
       "      <td>25.000000</td>\n",
       "      <td>2.000000</td>\n",
       "      <td>0.180000</td>\n",
       "      <td>20.500000</td>\n",
       "      <td>6.117280e+05</td>\n",
       "      <td>1970-01-01 00:00:00.020191001</td>\n",
       "      <td>-1160.000000</td>\n",
       "    </tr>\n",
       "    <tr>\n",
       "      <th>25%</th>\n",
       "      <td>1970-01-01 00:00:00.020200924</td>\n",
       "      <td>1.060901e+01</td>\n",
       "      <td>3.016154e+07</td>\n",
       "      <td>27.000000</td>\n",
       "      <td>10.000000</td>\n",
       "      <td>0.650000</td>\n",
       "      <td>1174.000000</td>\n",
       "      <td>6.119930e+05</td>\n",
       "      <td>1970-01-01 00:00:00.020201001</td>\n",
       "      <td>656.000000</td>\n",
       "    </tr>\n",
       "    <tr>\n",
       "      <th>50%</th>\n",
       "      <td>1970-01-01 00:00:00.020201130</td>\n",
       "      <td>3.046236e+01</td>\n",
       "      <td>3.020337e+07</td>\n",
       "      <td>30.000000</td>\n",
       "      <td>15.000000</td>\n",
       "      <td>1.420000</td>\n",
       "      <td>1250.000000</td>\n",
       "      <td>6.406650e+05</td>\n",
       "      <td>1970-01-01 00:00:00.020210101</td>\n",
       "      <td>802.000000</td>\n",
       "    </tr>\n",
       "    <tr>\n",
       "      <th>75%</th>\n",
       "      <td>1970-01-01 00:00:00.020210201</td>\n",
       "      <td>7.506915e+01</td>\n",
       "      <td>3.027219e+07</td>\n",
       "      <td>78.000000</td>\n",
       "      <td>41.000000</td>\n",
       "      <td>3.000000</td>\n",
       "      <td>1500.000000</td>\n",
       "      <td>1.641416e+08</td>\n",
       "      <td>1970-01-01 00:00:00.020210401</td>\n",
       "      <td>937.000000</td>\n",
       "    </tr>\n",
       "    <tr>\n",
       "      <th>max</th>\n",
       "      <td>1970-01-01 00:00:00.020210401</td>\n",
       "      <td>1.000000e+09</td>\n",
       "      <td>3.040817e+07</td>\n",
       "      <td>113.000000</td>\n",
       "      <td>79.000000</td>\n",
       "      <td>400.000000</td>\n",
       "      <td>2150.000000</td>\n",
       "      <td>1.721130e+09</td>\n",
       "      <td>1970-01-01 00:00:00.020211201</td>\n",
       "      <td>81236.140000</td>\n",
       "    </tr>\n",
       "    <tr>\n",
       "      <th>std</th>\n",
       "      <td>NaN</td>\n",
       "      <td>3.513121e+06</td>\n",
       "      <td>6.982724e+04</td>\n",
       "      <td>24.320401</td>\n",
       "      <td>17.865641</td>\n",
       "      <td>2.940936</td>\n",
       "      <td>246.046127</td>\n",
       "      <td>6.749962e+08</td>\n",
       "      <td>NaN</td>\n",
       "      <td>368.064795</td>\n",
       "    </tr>\n",
       "  </tbody>\n",
       "</table>\n",
       "</div>"
      ],
      "text/plain": [
       "                           item_date  quantity tons      customer   \n",
       "count                          81024   8.102400e+04  8.102400e+04  \\\n",
       "mean   1970-01-01 00:00:00.020204619   1.244196e+04  3.022684e+07   \n",
       "min       1970-01-01 00:00:00.019950   1.867763e-03  3.014772e+07   \n",
       "25%    1970-01-01 00:00:00.020200924   1.060901e+01  3.016154e+07   \n",
       "50%    1970-01-01 00:00:00.020201130   3.046236e+01  3.020337e+07   \n",
       "75%    1970-01-01 00:00:00.020210201   7.506915e+01  3.027219e+07   \n",
       "max    1970-01-01 00:00:00.020210401   1.000000e+09  3.040817e+07   \n",
       "std                              NaN   3.513121e+06  6.982724e+04   \n",
       "\n",
       "            country   application     thickness         width   product_ref   \n",
       "count  81024.000000  81024.000000  81024.000000  81024.000000  8.102400e+04  \\\n",
       "mean      45.627913     26.346786      2.298850   1287.291045  3.943268e+08   \n",
       "min       25.000000      2.000000      0.180000     20.500000  6.117280e+05   \n",
       "25%       27.000000     10.000000      0.650000   1174.000000  6.119930e+05   \n",
       "50%       30.000000     15.000000      1.420000   1250.000000  6.406650e+05   \n",
       "75%       78.000000     41.000000      3.000000   1500.000000  1.641416e+08   \n",
       "max      113.000000     79.000000    400.000000   2150.000000  1.721130e+09   \n",
       "std       24.320401     17.865641      2.940936    246.046127  6.749962e+08   \n",
       "\n",
       "                       delivery date  selling_price  \n",
       "count                          81024   81024.000000  \n",
       "mean   1970-01-01 00:00:00.020207053     804.297823  \n",
       "min    1970-01-01 00:00:00.020191001   -1160.000000  \n",
       "25%    1970-01-01 00:00:00.020201001     656.000000  \n",
       "50%    1970-01-01 00:00:00.020210101     802.000000  \n",
       "75%    1970-01-01 00:00:00.020210401     937.000000  \n",
       "max    1970-01-01 00:00:00.020211201   81236.140000  \n",
       "std                              NaN     368.064795  "
      ]
     },
     "execution_count": 15,
     "metadata": {},
     "output_type": "execute_result"
    }
   ],
   "source": [
    "df.describe()"
   ]
  },
  {
   "cell_type": "code",
   "execution_count": 16,
   "id": "3cb6e777",
   "metadata": {},
   "outputs": [],
   "source": [
    "#categorical variables\n",
    "categorical_col=['status','item type','material_ref','product_ref']\n",
    "#continuous variable\n",
    "Continues_col = ['quantity tons','customer','country','application','thickness','width','selling_price']"
   ]
  },
  {
   "cell_type": "code",
   "execution_count": 17,
   "id": "076336bd",
   "metadata": {},
   "outputs": [
    {
     "name": "stdout",
     "output_type": "stream",
     "text": [
      "quantity tons -- 284.6471445233792\n",
      "customer -- 0.9481255076859122\n",
      "country -- 0.6415189202742501\n",
      "application -- 0.506656959512981\n",
      "thickness -- 32.463130467874734\n",
      "width -- 0.5194467013684223\n",
      "selling_price -- 129.38031327288627\n"
     ]
    }
   ],
   "source": [
    "for i in Continues_col:\n",
    "    print(i,\"--\",df[i].skew())"
   ]
  },
  {
   "cell_type": "markdown",
   "id": "7499570d",
   "metadata": {},
   "source": [
    "# quantity tons"
   ]
  },
  {
   "cell_type": "code",
   "execution_count": 18,
   "id": "c4875098",
   "metadata": {},
   "outputs": [
    {
     "data": {
      "text/plain": [
       "(171.75935447, -86.08119639)"
      ]
     },
     "execution_count": 18,
     "metadata": {},
     "output_type": "execute_result"
    }
   ],
   "source": [
    "df['quantity tons'] = pd.to_numeric(df['quantity tons'], errors='coerce')\n",
    "q3 = df['quantity tons'].quantile(0.75)\n",
    "q1 = df['quantity tons'].quantile(0.25)\n",
    "iqr = q3 - q1\n",
    "upper_tres = q3 + (1.5 * iqr)\n",
    "lower_tres = q1 - (1.5 * iqr)\n",
    "upper_tres, lower_tres\n"
   ]
  },
  {
   "cell_type": "code",
   "execution_count": 19,
   "id": "1c2abc8a",
   "metadata": {},
   "outputs": [],
   "source": [
    "df['quantity tons'] = df['quantity tons'].clip(upper_tres,lower_tres)"
   ]
  },
  {
   "cell_type": "code",
   "execution_count": 20,
   "id": "57c32402",
   "metadata": {},
   "outputs": [
    {
     "data": {
      "image/png": "[encoded data removed]",
      "text/plain": [
       "<Figure size 640x480 with 1 Axes>"
      ]
     },
     "metadata": {},
     "output_type": "display_data"
    }
   ],
   "source": [
    "import seaborn as sns\n",
    "import matplotlib.pyplot as plt\n",
    "\n",
    "# Create a boxplot for the 'quantity_tons' column in the 'df' DataFrame\n",
    "sns.boxplot(x='quantity tons', data=df)\n",
    "\n",
    "# Show the plot\n",
    "plt.show()\n"
   ]
  },
  {
   "cell_type": "markdown",
   "id": "628d7251",
   "metadata": {},
   "source": [
    "# Application"
   ]
  },
  {
   "cell_type": "code",
   "execution_count": 21,
   "id": "18dff0cc",
   "metadata": {},
   "outputs": [],
   "source": [
    "q3 = df.application.quantile(0.75)\n",
    "q1 = df.application.quantile(0.25)\n",
    "iqr = (q3 - q1)\n",
    "upper_tres = q3 + (1.5*iqr)\n",
    "lower_tres = q1 - (1.5*iqr)\n",
    "upper_tres,lower_tres\n",
    "\n",
    "df['application'] = df['application'].clip(upper_tres,lower_tres)"
   ]
  },
  {
   "cell_type": "code",
   "execution_count": 22,
   "id": "87e142a5",
   "metadata": {},
   "outputs": [
    {
     "data": {
      "image/png": "[encoded data removed]",
      "text/plain": [
       "<Figure size 640x480 with 1 Axes>"
      ]
     },
     "metadata": {},
     "output_type": "display_data"
    }
   ],
   "source": [
    "# Creating plot\n",
    "plt.boxplot(df['application'])\n",
    " \n",
    "# show plot\n",
    "plt.show()"
   ]
  },
  {
   "cell_type": "markdown",
   "id": "242e3bfa",
   "metadata": {},
   "source": [
    "# thickness"
   ]
  },
  {
   "cell_type": "code",
   "execution_count": 23,
   "id": "64d9692c",
   "metadata": {},
   "outputs": [],
   "source": [
    "q3 = df.thickness.quantile(0.75)\n",
    "q1 = df.thickness.quantile(0.25)\n",
    "iqr = (q3 - q1)\n",
    "upper_tres = q3 + (1.5*iqr)\n",
    "lower_tres = q1 - (1.5*iqr)\n",
    "upper_tres,lower_tres\n",
    "\n",
    "df['thickness'] = df['thickness'].clip(upper_tres,lower_tres)"
   ]
  },
  {
   "cell_type": "code",
   "execution_count": 24,
   "id": "dbaa914b",
   "metadata": {},
   "outputs": [
    {
     "data": {
      "image/png": "[encoded data removed]",
      "text/plain": [
       "<Figure size 640x480 with 1 Axes>"
      ]
     },
     "metadata": {},
     "output_type": "display_data"
    }
   ],
   "source": [
    "# Creating plot\n",
    "plt.boxplot(df['thickness'])\n",
    " \n",
    "# show plot\n",
    "plt.show()"
   ]
  },
  {
   "cell_type": "markdown",
   "id": "01df6b03",
   "metadata": {},
   "source": [
    "# width"
   ]
  },
  {
   "cell_type": "code",
   "execution_count": 25,
   "id": "f619e795",
   "metadata": {},
   "outputs": [
    {
     "data": {
      "text/plain": [
       "(1989.0, 685.0)"
      ]
     },
     "execution_count": 25,
     "metadata": {},
     "output_type": "execute_result"
    }
   ],
   "source": [
    "q3 = df.width.quantile(0.75)\n",
    "q1 = df.width.quantile(0.25)\n",
    "iqr = (q3 - q1)\n",
    "upper_tres = q3 + (1.5*iqr)\n",
    "lower_tres = q1 - (1.5*iqr)\n",
    "upper_tres,lower_tres"
   ]
  },
  {
   "cell_type": "code",
   "execution_count": 26,
   "id": "6f46b77b",
   "metadata": {},
   "outputs": [],
   "source": [
    "df['width'] = df['width'].clip(upper_tres,lower_tres)"
   ]
  },
  {
   "cell_type": "code",
   "execution_count": 27,
   "id": "efa32f46",
   "metadata": {},
   "outputs": [
    {
     "data": {
      "image/png": "[encoded data removed]",
      "text/plain": [
       "<Figure size 640x480 with 1 Axes>"
      ]
     },
     "metadata": {},
     "output_type": "display_data"
    }
   ],
   "source": [
    "# Creating plot\n",
    "plt.boxplot(df['width'])\n",
    " \n",
    "# show plot\n",
    "plt.show()"
   ]
  },
  {
   "cell_type": "markdown",
   "id": "0f2d709c",
   "metadata": {},
   "source": [
    "# selling price"
   ]
  },
  {
   "cell_type": "code",
   "execution_count": 28,
   "id": "c8154c80",
   "metadata": {},
   "outputs": [
    {
     "data": {
      "text/plain": [
       "(1358.5, 234.5)"
      ]
     },
     "execution_count": 28,
     "metadata": {},
     "output_type": "execute_result"
    }
   ],
   "source": [
    "q3 = df.selling_price.quantile(0.75)\n",
    "q1 = df.selling_price.quantile(0.25)\n",
    "iqr = (q3 - q1)\n",
    "upper_tres = q3 + (1.5*iqr)\n",
    "lower_tres = q1 - (1.5*iqr)\n",
    "upper_tres,lower_tres"
   ]
  },
  {
   "cell_type": "code",
   "execution_count": 29,
   "id": "25989108",
   "metadata": {},
   "outputs": [],
   "source": [
    "df['selling_price'] = df['selling_price'].clip(upper_tres,lower_tres)"
   ]
  },
  {
   "cell_type": "code",
   "execution_count": 30,
   "id": "9c13fb09",
   "metadata": {},
   "outputs": [
    {
     "data": {
      "image/png": "[encoded data removed]",
      "text/plain": [
       "<Figure size 640x480 with 1 Axes>"
      ]
     },
     "metadata": {},
     "output_type": "display_data"
    }
   ],
   "source": [
    "# Creating plot\n",
    "plt.boxplot(df['selling_price'])\n",
    " \n",
    "# show plot\n",
    "plt.show()"
   ]
  },
  {
   "cell_type": "markdown",
   "id": "fbdbc4af",
   "metadata": {},
   "source": [
    "# skewness"
   ]
  },
  {
   "cell_type": "code",
   "execution_count": 31,
   "id": "75ae946a",
   "metadata": {},
   "outputs": [],
   "source": [
    "# Skewness:\n",
    "\n",
    "# Definition: Skewness measures the asymmetry of the probability distribution of a dataset. \n",
    "# It quantifies how the data is distributed in terms of its shape and whether it is symmetric or not.\n",
    "\n",
    "# Purpose: Skewness helps you understand the shape of the data distribution. \n",
    "# It tells you if the data is more concentrated on one side of the mean or if it's evenly distributed. \n",
    "# Positive skewness indicates a right-skewed distribution, while negative skewness indicates a left-skewed distribution."
   ]
  },
  {
   "cell_type": "code",
   "execution_count": 32,
   "id": "6fe44a24",
   "metadata": {},
   "outputs": [
    {
     "data": {
      "text/plain": [
       "<Figure size 800x600 with 0 Axes>"
      ]
     },
     "metadata": {},
     "output_type": "display_data"
    },
    {
     "data": {
      "image/png": "[encoded data removed]",
      "text/plain": [
       "<Figure size 500x500 with 1 Axes>"
      ]
     },
     "metadata": {},
     "output_type": "display_data"
    }
   ],
   "source": [
    "plt.figure(figsize=(8, 6))  # Adjust the figure size as needed\n",
    "sns.displot(df['width'], kde=True)\n",
    "plt.xlabel('Width')\n",
    "plt.ylabel('Density')\n",
    "plt.title('Distribution of \"width\" Column with KDE')\n",
    "plt.grid(True)\n",
    "\n",
    "# Show the plot\n",
    "plt.tight_layout()\n",
    "plt.show()"
   ]
  },
  {
   "cell_type": "code",
   "execution_count": 33,
   "id": "9560cf1a",
   "metadata": {},
   "outputs": [
    {
     "data": {
      "text/plain": [
       "<Figure size 800x600 with 0 Axes>"
      ]
     },
     "metadata": {},
     "output_type": "display_data"
    },
    {
     "data": {
      "image/png": "[encoded data removed]",
      "text/plain": [
       "<Figure size 500x500 with 1 Axes>"
      ]
     },
     "metadata": {},
     "output_type": "display_data"
    }
   ],
   "source": [
    "plt.figure(figsize=(8, 6))  # Adjust the figure size as needed\n",
    "sns.displot(df['selling_price'], kde=True)\n",
    "plt.xlabel('selling_price')\n",
    "plt.ylabel('Density')\n",
    "plt.title('Distribution of \"selling_price\" Column with KDE')\n",
    "plt.grid(True)\n",
    "\n",
    "# Show the plot\n",
    "plt.tight_layout()\n",
    "plt.show()"
   ]
  },
  {
   "cell_type": "code",
   "execution_count": 34,
   "id": "3ff9094f",
   "metadata": {},
   "outputs": [
    {
     "data": {
      "text/plain": [
       "<Figure size 800x600 with 0 Axes>"
      ]
     },
     "metadata": {},
     "output_type": "display_data"
    },
    {
     "data": {
      "image/png": "[encoded data removed]",
      "text/plain": [
       "<Figure size 500x500 with 1 Axes>"
      ]
     },
     "metadata": {},
     "output_type": "display_data"
    }
   ],
   "source": [
    "plt.figure(figsize=(8, 6))  # Adjust the figure size as needed\n",
    "sns.displot(df['application'], kde=True)\n",
    "plt.xlabel('application')\n",
    "plt.ylabel('Density')\n",
    "plt.title('Distribution of \"application\" Column with KDE')\n",
    "plt.grid(True)\n",
    "\n",
    "# Show the plot\n",
    "plt.tight_layout()\n",
    "plt.show()"
   ]
  },
  {
   "cell_type": "code",
   "execution_count": 35,
   "id": "b3d97bf0",
   "metadata": {},
   "outputs": [
    {
     "data": {
      "text/plain": [
       "<Figure size 800x600 with 0 Axes>"
      ]
     },
     "metadata": {},
     "output_type": "display_data"
    },
    {
     "data": {
      "image/png": "[encoded data removed]",
      "text/plain": [
       "<Figure size 500x500 with 1 Axes>"
      ]
     },
     "metadata": {},
     "output_type": "display_data"
    }
   ],
   "source": [
    "plt.figure(figsize=(8, 6))  # Adjust the figure size as needed\n",
    "sns.displot(df['quantity tons'], kde=True)\n",
    "plt.xlabel('quantity tons')\n",
    "plt.ylabel('Density')\n",
    "plt.title('Distribution of \"quantity_tons\" Column with KDE')\n",
    "plt.grid(True)\n",
    "\n",
    "# Show the plot\n",
    "plt.tight_layout()\n",
    "plt.show()"
   ]
  },
  {
   "cell_type": "code",
   "execution_count": 36,
   "id": "3c0e3ddb",
   "metadata": {},
   "outputs": [
    {
     "data": {
      "text/plain": [
       "<Figure size 800x600 with 0 Axes>"
      ]
     },
     "metadata": {},
     "output_type": "display_data"
    },
    {
     "data": {
      "image/png": "[encoded data removed]",
      "text/plain": [
       "<Figure size 500x500 with 1 Axes>"
      ]
     },
     "metadata": {},
     "output_type": "display_data"
    }
   ],
   "source": [
    "plt.figure(figsize=(8, 6))  # Adjust the figure size as needed\n",
    "sns.displot(df['thickness'], kde=True)\n",
    "plt.xlabel('thickness')\n",
    "plt.ylabel('Density')\n",
    "plt.title('Distribution of \"thickness\" Column with KDE')\n",
    "plt.grid(True)\n",
    "\n",
    "# Show the plot\n",
    "plt.tight_layout()\n",
    "plt.show()"
   ]
  },
  {
   "cell_type": "markdown",
   "id": "79681c8c",
   "metadata": {},
   "source": [
    "# treating skewness"
   ]
  },
  {
   "cell_type": "code",
   "execution_count": 37,
   "id": "cea47972",
   "metadata": {},
   "outputs": [],
   "source": [
    "# Identify Skewness:\n",
    "\n",
    "#     Begin by visually inspecting your data using histograms, density plots, or \n",
    "#     skewness coefficients to determine whether skewness is present and its direction (positive or negative).\n",
    "#     Choose Appropriate Transformation:\n",
    "\n",
    "# Select a transformation method based on the type of skewness:\n",
    "# Positive Skewness (Right Skewed):\n",
    "#      Apply a logarithmic transformation (e.g., natural logarithm or base 10).\n",
    "#     Try a square root transformation.\n",
    "#     Consider a Box-Cox transformation if appropriate.\n",
    "# Negative Skewness (Left Skewed):\n",
    "#     Consider an inverse transformation (e.g., 1/x).\n",
    "\n",
    "# If this value is between: -0.5 and 0.5, the distribution of the value is almost symmetrical.\n",
    "# -1 and -0.5, the data is negatively skewed, \n",
    "#  and \n",
    "# f it is between 0.5 to 1, \n",
    "# the data is positively skewed. The skewness is moderate"
   ]
  },
  {
   "cell_type": "code",
   "execution_count": 38,
   "id": "54c1eedf",
   "metadata": {},
   "outputs": [],
   "source": [
    "# # Positive skewness (Right Skewed)\n",
    "# log_transformed_data = np.log(data)\n",
    "# sqrt_transformed_data = np.sqrt(data)\n",
    "\n",
    "# # Negative skewness \n",
    "# inverse_transformed_data = 1 / data"
   ]
  },
  {
   "cell_type": "markdown",
   "id": "52a76f18",
   "metadata": {},
   "source": [
    "# if this value between -0.5 t0 0.5 the distribution of the value is almost symmetrical  "
   ]
  },
  {
   "cell_type": "markdown",
   "id": "114bc65e",
   "metadata": {},
   "source": [
    "# -1 and -0.5 the distribution is negatively skewed"
   ]
  },
  {
   "cell_type": "markdown",
   "id": "d4dbfc1f",
   "metadata": {},
   "source": [
    "# 1 and 0.5 the distribution is positvely skewed"
   ]
  },
  {
   "cell_type": "code",
   "execution_count": 39,
   "id": "74ac094a",
   "metadata": {},
   "outputs": [],
   "source": [
    "df['thickness_log'] = np.log(df['thickness'])\n"
   ]
  },
  {
   "cell_type": "code",
   "execution_count": 40,
   "id": "3e11f320",
   "metadata": {},
   "outputs": [
    {
     "data": {
      "text/plain": [
       "(0.23559031372106684, 1.2425099057623985)"
      ]
     },
     "execution_count": 40,
     "metadata": {},
     "output_type": "execute_result"
    }
   ],
   "source": [
    "df['thickness_log'].skew(),df['thickness'].skew()"
   ]
  },
  {
   "cell_type": "code",
   "execution_count": 41,
   "id": "22569fd2",
   "metadata": {},
   "outputs": [],
   "source": [
    "df['width_log'] = np.cbrt(df['width'])"
   ]
  },
  {
   "cell_type": "code",
   "execution_count": 42,
   "id": "36c461bb",
   "metadata": {},
   "outputs": [
    {
     "data": {
      "text/plain": [
       "(0.16994993515908066, 0.7054910340415504)"
      ]
     },
     "execution_count": 42,
     "metadata": {},
     "output_type": "execute_result"
    }
   ],
   "source": [
    "df['width_log'].skew(),df['width'].skew()"
   ]
  },
  {
   "cell_type": "code",
   "execution_count": 43,
   "id": "39b0c484",
   "metadata": {},
   "outputs": [
    {
     "data": {
      "text/plain": [
       "0.12081611251480388"
      ]
     },
     "execution_count": 43,
     "metadata": {},
     "output_type": "execute_result"
    }
   ],
   "source": [
    "df['selling_price'].skew()# This is normally symmertrical so no need transformation"
   ]
  },
  {
   "cell_type": "code",
   "execution_count": 44,
   "id": "e707a15a",
   "metadata": {},
   "outputs": [],
   "source": [
    "from scipy import stats\n",
    "df['quantity_tons_log'], lam = stats.boxcox(df['quantity tons'])"
   ]
  },
  {
   "cell_type": "code",
   "execution_count": 45,
   "id": "e20d8b46",
   "metadata": {},
   "outputs": [
    {
     "data": {
      "text/plain": [
       "(1.1933036401800192, -0.05410425366150814)"
      ]
     },
     "execution_count": 45,
     "metadata": {},
     "output_type": "execute_result"
    }
   ],
   "source": [
    "df['quantity tons'].skew(),df['quantity_tons_log'].skew()"
   ]
  },
  {
   "cell_type": "code",
   "execution_count": 46,
   "id": "2564a5fb",
   "metadata": {},
   "outputs": [],
   "source": [
    "df['application_log'] = np.log(df['application'])"
   ]
  },
  {
   "cell_type": "code",
   "execution_count": 47,
   "id": "421687f7",
   "metadata": {
    "scrolled": true
   },
   "outputs": [
    {
     "data": {
      "text/plain": [
       "(0.506656959512981, 0.12628523471536643)"
      ]
     },
     "execution_count": 47,
     "metadata": {},
     "output_type": "execute_result"
    }
   ],
   "source": [
    "df['application'].skew(),df['application_log'].skew()"
   ]
  },
  {
   "cell_type": "code",
   "execution_count": 48,
   "id": "a4f06c11",
   "metadata": {},
   "outputs": [
    {
     "name": "stderr",
     "output_type": "stream",
     "text": [
      "C:\\Users\\Harish\\AppData\\Local\\Temp\\ipykernel_13388\\3804379648.py:2: UserWarning: \n",
      "\n",
      "`distplot` is a deprecated function and will be removed in seaborn v0.14.0.\n",
      "\n",
      "Please adapt your code to use either `displot` (a figure-level function with\n",
      "similar flexibility) or `kdeplot` (an axes-level function for kernel density plots).\n",
      "\n",
      "For a guide to updating your code to use the new functions, please see\n",
      "https://gist.github.com/mwaskom/de44147ed2974457ad6372750bbe5751\n",
      "\n",
      "  sns.distplot(df['thickness'], hist = False, kde = True,\n",
      "C:\\Users\\Harish\\AppData\\Local\\Programs\\Python\\Python311\\Lib\\site-packages\\seaborn\\distributions.py:2511: FutureWarning: \n",
      "\n",
      "`shade` is now deprecated in favor of `fill`; setting `fill=True`.\n",
      "This will become an error in seaborn v0.14.0; please update your code.\n",
      "\n",
      "  kdeplot(**{axis: a}, ax=ax, color=kde_color, **kde_kws)\n",
      "C:\\Users\\Harish\\AppData\\Local\\Temp\\ipykernel_13388\\3804379648.py:5: UserWarning: \n",
      "\n",
      "`distplot` is a deprecated function and will be removed in seaborn v0.14.0.\n",
      "\n",
      "Please adapt your code to use either `displot` (a figure-level function with\n",
      "similar flexibility) or `kdeplot` (an axes-level function for kernel density plots).\n",
      "\n",
      "For a guide to updating your code to use the new functions, please see\n",
      "https://gist.github.com/mwaskom/de44147ed2974457ad6372750bbe5751\n",
      "\n",
      "  sns.distplot(df['thickness_log'], hist = False, kde = True,\n",
      "C:\\Users\\Harish\\AppData\\Local\\Programs\\Python\\Python311\\Lib\\site-packages\\seaborn\\distributions.py:2511: FutureWarning: \n",
      "\n",
      "`shade` is now deprecated in favor of `fill`; setting `fill=True`.\n",
      "This will become an error in seaborn v0.14.0; please update your code.\n",
      "\n",
      "  kdeplot(**{axis: a}, ax=ax, color=kde_color, **kde_kws)\n"
     ]
    },
    {
     "data": {
      "text/plain": [
       "<Axes: xlabel='thickness_log', ylabel='Density'>"
      ]
     },
     "execution_count": 48,
     "metadata": {},
     "output_type": "execute_result"
    },
    {
     "data": {
      "image/png": "[encoded data removed]",
      "text/plain": [
       "<Figure size 1000x500 with 2 Axes>"
      ]
     },
     "metadata": {},
     "output_type": "display_data"
    }
   ],
   "source": [
    "fig, ax = plt.subplots(1, 2, figsize=(10, 5))\n",
    "sns.distplot(df['thickness'], hist = False, kde = True,\n",
    "            kde_kws = {'shade': True, 'linewidth': 2},\n",
    "            label = \"Normal\", color =\"green\", ax=ax[0])\n",
    "sns.distplot(df['thickness_log'], hist = False, kde = True,\n",
    "            kde_kws = {'shade': True, 'linewidth': 2},\n",
    "            label = \"Normal\", color =\"green\", ax=ax[1])"
   ]
  },
  {
   "cell_type": "code",
   "execution_count": 49,
   "id": "e980cf91",
   "metadata": {},
   "outputs": [
    {
     "name": "stderr",
     "output_type": "stream",
     "text": [
      "C:\\Users\\Harish\\AppData\\Local\\Temp\\ipykernel_13388\\2847326983.py:2: UserWarning: \n",
      "\n",
      "`distplot` is a deprecated function and will be removed in seaborn v0.14.0.\n",
      "\n",
      "Please adapt your code to use either `displot` (a figure-level function with\n",
      "similar flexibility) or `kdeplot` (an axes-level function for kernel density plots).\n",
      "\n",
      "For a guide to updating your code to use the new functions, please see\n",
      "https://gist.github.com/mwaskom/de44147ed2974457ad6372750bbe5751\n",
      "\n",
      "  sns.distplot(df['application'], hist = False, kde = True,\n",
      "C:\\Users\\Harish\\AppData\\Local\\Programs\\Python\\Python311\\Lib\\site-packages\\seaborn\\distributions.py:2511: FutureWarning: \n",
      "\n",
      "`shade` is now deprecated in favor of `fill`; setting `fill=True`.\n",
      "This will become an error in seaborn v0.14.0; please update your code.\n",
      "\n",
      "  kdeplot(**{axis: a}, ax=ax, color=kde_color, **kde_kws)\n",
      "C:\\Users\\Harish\\AppData\\Local\\Temp\\ipykernel_13388\\2847326983.py:5: UserWarning: \n",
      "\n",
      "`distplot` is a deprecated function and will be removed in seaborn v0.14.0.\n",
      "\n",
      "Please adapt your code to use either `displot` (a figure-level function with\n",
      "similar flexibility) or `kdeplot` (an axes-level function for kernel density plots).\n",
      "\n",
      "For a guide to updating your code to use the new functions, please see\n",
      "https://gist.github.com/mwaskom/de44147ed2974457ad6372750bbe5751\n",
      "\n",
      "  sns.distplot(df['application_log'], hist = False, kde = True,\n",
      "C:\\Users\\Harish\\AppData\\Local\\Programs\\Python\\Python311\\Lib\\site-packages\\seaborn\\distributions.py:2511: FutureWarning: \n",
      "\n",
      "`shade` is now deprecated in favor of `fill`; setting `fill=True`.\n",
      "This will become an error in seaborn v0.14.0; please update your code.\n",
      "\n",
      "  kdeplot(**{axis: a}, ax=ax, color=kde_color, **kde_kws)\n"
     ]
    },
    {
     "data": {
      "text/plain": [
       "<Axes: xlabel='application_log', ylabel='Density'>"
      ]
     },
     "execution_count": 49,
     "metadata": {},
     "output_type": "execute_result"
    },
    {
     "data": {
      "image/png": "[encoded data removed]",
      "text/plain": [
       "<Figure size 1000x500 with 2 Axes>"
      ]
     },
     "metadata": {},
     "output_type": "display_data"
    }
   ],
   "source": [
    "fig, ax = plt.subplots(1, 2, figsize=(10, 5))\n",
    "sns.distplot(df['application'], hist = False, kde = True,\n",
    "            kde_kws = {'shade': True, 'linewidth': 2},\n",
    "            label = \"Normal\", color =\"green\", ax=ax[0])\n",
    "sns.distplot(df['application_log'], hist = False, kde = True,\n",
    "            kde_kws = {'shade': True, 'linewidth': 2},\n",
    "            label = \"Normal\", color =\"green\", ax=ax[1])"
   ]
  },
  {
   "cell_type": "code",
   "execution_count": 50,
   "id": "c832a390",
   "metadata": {},
   "outputs": [
    {
     "name": "stderr",
     "output_type": "stream",
     "text": [
      "C:\\Users\\Harish\\AppData\\Local\\Temp\\ipykernel_13388\\381339909.py:2: UserWarning: \n",
      "\n",
      "`distplot` is a deprecated function and will be removed in seaborn v0.14.0.\n",
      "\n",
      "Please adapt your code to use either `displot` (a figure-level function with\n",
      "similar flexibility) or `kdeplot` (an axes-level function for kernel density plots).\n",
      "\n",
      "For a guide to updating your code to use the new functions, please see\n",
      "https://gist.github.com/mwaskom/de44147ed2974457ad6372750bbe5751\n",
      "\n",
      "  sns.distplot(df['quantity tons'], hist = False, kde = True,\n",
      "C:\\Users\\Harish\\AppData\\Local\\Programs\\Python\\Python311\\Lib\\site-packages\\seaborn\\distributions.py:2511: FutureWarning: \n",
      "\n",
      "`shade` is now deprecated in favor of `fill`; setting `fill=True`.\n",
      "This will become an error in seaborn v0.14.0; please update your code.\n",
      "\n",
      "  kdeplot(**{axis: a}, ax=ax, color=kde_color, **kde_kws)\n",
      "C:\\Users\\Harish\\AppData\\Local\\Temp\\ipykernel_13388\\381339909.py:5: UserWarning: \n",
      "\n",
      "`distplot` is a deprecated function and will be removed in seaborn v0.14.0.\n",
      "\n",
      "Please adapt your code to use either `displot` (a figure-level function with\n",
      "similar flexibility) or `kdeplot` (an axes-level function for kernel density plots).\n",
      "\n",
      "For a guide to updating your code to use the new functions, please see\n",
      "https://gist.github.com/mwaskom/de44147ed2974457ad6372750bbe5751\n",
      "\n",
      "  sns.distplot(df['quantity_tons_log'], hist = False, kde = True,\n",
      "C:\\Users\\Harish\\AppData\\Local\\Programs\\Python\\Python311\\Lib\\site-packages\\seaborn\\distributions.py:2511: FutureWarning: \n",
      "\n",
      "`shade` is now deprecated in favor of `fill`; setting `fill=True`.\n",
      "This will become an error in seaborn v0.14.0; please update your code.\n",
      "\n",
      "  kdeplot(**{axis: a}, ax=ax, color=kde_color, **kde_kws)\n"
     ]
    },
    {
     "data": {
      "text/plain": [
       "<Axes: xlabel='quantity_tons_log', ylabel='Density'>"
      ]
     },
     "execution_count": 50,
     "metadata": {},
     "output_type": "execute_result"
    },
    {
     "data": {
      "image/png": "[encoded data removed]",
      "text/plain": [
       "<Figure size 1000x500 with 2 Axes>"
      ]
     },
     "metadata": {},
     "output_type": "display_data"
    }
   ],
   "source": [
    "fig, ax = plt.subplots(1, 2, figsize=(10, 5))\n",
    "sns.distplot(df['quantity tons'], hist = False, kde = True,\n",
    "            kde_kws = {'shade': True, 'linewidth': 2},\n",
    "            label = \"Normal\", color =\"green\", ax=ax[0])\n",
    "sns.distplot(df['quantity_tons_log'], hist = False, kde = True,\n",
    "            kde_kws = {'shade': True, 'linewidth': 2},\n",
    "            label = \"Normal\", color =\"green\", ax=ax[1])"
   ]
  },
  {
   "cell_type": "code",
   "execution_count": 51,
   "id": "536e4543",
   "metadata": {},
   "outputs": [
    {
     "name": "stderr",
     "output_type": "stream",
     "text": [
      "C:\\Users\\Harish\\AppData\\Local\\Temp\\ipykernel_13388\\2817283544.py:2: UserWarning: \n",
      "\n",
      "`distplot` is a deprecated function and will be removed in seaborn v0.14.0.\n",
      "\n",
      "Please adapt your code to use either `displot` (a figure-level function with\n",
      "similar flexibility) or `kdeplot` (an axes-level function for kernel density plots).\n",
      "\n",
      "For a guide to updating your code to use the new functions, please see\n",
      "https://gist.github.com/mwaskom/de44147ed2974457ad6372750bbe5751\n",
      "\n",
      "  sns.distplot(df['width'], hist = False, kde = True,\n",
      "C:\\Users\\Harish\\AppData\\Local\\Programs\\Python\\Python311\\Lib\\site-packages\\seaborn\\distributions.py:2511: FutureWarning: \n",
      "\n",
      "`shade` is now deprecated in favor of `fill`; setting `fill=True`.\n",
      "This will become an error in seaborn v0.14.0; please update your code.\n",
      "\n",
      "  kdeplot(**{axis: a}, ax=ax, color=kde_color, **kde_kws)\n",
      "C:\\Users\\Harish\\AppData\\Local\\Temp\\ipykernel_13388\\2817283544.py:5: UserWarning: \n",
      "\n",
      "`distplot` is a deprecated function and will be removed in seaborn v0.14.0.\n",
      "\n",
      "Please adapt your code to use either `displot` (a figure-level function with\n",
      "similar flexibility) or `kdeplot` (an axes-level function for kernel density plots).\n",
      "\n",
      "For a guide to updating your code to use the new functions, please see\n",
      "https://gist.github.com/mwaskom/de44147ed2974457ad6372750bbe5751\n",
      "\n",
      "  sns.distplot(df['width_log'], hist = False, kde = True,\n",
      "C:\\Users\\Harish\\AppData\\Local\\Programs\\Python\\Python311\\Lib\\site-packages\\seaborn\\distributions.py:2511: FutureWarning: \n",
      "\n",
      "`shade` is now deprecated in favor of `fill`; setting `fill=True`.\n",
      "This will become an error in seaborn v0.14.0; please update your code.\n",
      "\n",
      "  kdeplot(**{axis: a}, ax=ax, color=kde_color, **kde_kws)\n"
     ]
    },
    {
     "data": {
      "text/plain": [
       "<Axes: xlabel='width_log', ylabel='Density'>"
      ]
     },
     "execution_count": 51,
     "metadata": {},
     "output_type": "execute_result"
    },
    {
     "data": {
      "image/png": "[encoded data removed]",
      "text/plain": [
       "<Figure size 1000x500 with 2 Axes>"
      ]
     },
     "metadata": {},
     "output_type": "display_data"
    }
   ],
   "source": [
    "fig, ax = plt.subplots(1, 2, figsize=(10, 5))\n",
    "sns.distplot(df['width'], hist = False, kde = True,\n",
    "            kde_kws = {'shade': True, 'linewidth': 2},\n",
    "            label = \"Normal\", color =\"green\", ax=ax[0])\n",
    "sns.distplot(df['width_log'], hist = False, kde = True,\n",
    "            kde_kws = {'shade': True, 'linewidth': 2},\n",
    "            label = \"Normal\", color =\"green\", ax=ax[1])"
   ]
  },
  {
   "cell_type": "code",
   "execution_count": 52,
   "id": "be530b27",
   "metadata": {},
   "outputs": [
    {
     "name": "stderr",
     "output_type": "stream",
     "text": [
      "C:\\Users\\Harish\\AppData\\Local\\Temp\\ipykernel_13388\\4020298941.py:2: UserWarning: \n",
      "\n",
      "`distplot` is a deprecated function and will be removed in seaborn v0.14.0.\n",
      "\n",
      "Please adapt your code to use either `displot` (a figure-level function with\n",
      "similar flexibility) or `kdeplot` (an axes-level function for kernel density plots).\n",
      "\n",
      "For a guide to updating your code to use the new functions, please see\n",
      "https://gist.github.com/mwaskom/de44147ed2974457ad6372750bbe5751\n",
      "\n",
      "  sns.distplot(df['selling_price'], hist = False, kde = True,\n",
      "C:\\Users\\Harish\\AppData\\Local\\Programs\\Python\\Python311\\Lib\\site-packages\\seaborn\\distributions.py:2511: FutureWarning: \n",
      "\n",
      "`shade` is now deprecated in favor of `fill`; setting `fill=True`.\n",
      "This will become an error in seaborn v0.14.0; please update your code.\n",
      "\n",
      "  kdeplot(**{axis: a}, ax=ax, color=kde_color, **kde_kws)\n",
      "C:\\Users\\Harish\\AppData\\Local\\Temp\\ipykernel_13388\\4020298941.py:5: UserWarning: \n",
      "\n",
      "`distplot` is a deprecated function and will be removed in seaborn v0.14.0.\n",
      "\n",
      "Please adapt your code to use either `displot` (a figure-level function with\n",
      "similar flexibility) or `kdeplot` (an axes-level function for kernel density plots).\n",
      "\n",
      "For a guide to updating your code to use the new functions, please see\n",
      "https://gist.github.com/mwaskom/de44147ed2974457ad6372750bbe5751\n",
      "\n",
      "  sns.distplot(df['selling_price'], hist = False, kde = True,\n",
      "C:\\Users\\Harish\\AppData\\Local\\Programs\\Python\\Python311\\Lib\\site-packages\\seaborn\\distributions.py:2511: FutureWarning: \n",
      "\n",
      "`shade` is now deprecated in favor of `fill`; setting `fill=True`.\n",
      "This will become an error in seaborn v0.14.0; please update your code.\n",
      "\n",
      "  kdeplot(**{axis: a}, ax=ax, color=kde_color, **kde_kws)\n"
     ]
    },
    {
     "data": {
      "text/plain": [
       "<Axes: xlabel='selling_price', ylabel='Density'>"
      ]
     },
     "execution_count": 52,
     "metadata": {},
     "output_type": "execute_result"
    },
    {
     "data": {
      "image/png": "[encoded data removed]",
      "text/plain": [
       "<Figure size 1000x500 with 2 Axes>"
      ]
     },
     "metadata": {},
     "output_type": "display_data"
    }
   ],
   "source": [
    "fig, ax = plt.subplots(1, 2, figsize=(10, 5))\n",
    "sns.distplot(df['selling_price'], hist = False, kde = True,\n",
    "            kde_kws = {'shade': True, 'linewidth': 2},\n",
    "            label = \"Normal\", color =\"green\", ax=ax[0])\n",
    "sns.distplot(df['selling_price'], hist = False, kde = True,\n",
    "            kde_kws = {'shade': True, 'linewidth': 2},\n",
    "            label = \"Normal\", color =\"green\", ax=ax[1])"
   ]
  },
  {
   "cell_type": "markdown",
   "id": "50af323c",
   "metadata": {},
   "source": [
    "# ENCODING"
   ]
  },
  {
   "cell_type": "code",
   "execution_count": 53,
   "id": "082268c3",
   "metadata": {},
   "outputs": [],
   "source": [
    "# One-Hot Encoding: One-hot encoding is a popular technique where each category is converted into a binary vector. Each category is represented by a unique column, and the presence of a category is indicated by a 1 in the corresponding column, while all other columns contain 0s.\n",
    "\n",
    "# Example:\n",
    "# Original categorical column: [\"Red\", \"Green\", \"Blue\"]\n",
    "# One-hot encoded columns:\n",
    "\n",
    "# Red: [1, 0, 0]\n",
    "# Green: [0, 1, 0]\n",
    "# Blue: [0, 0, 1]\n",
    "    \n",
    "# Label Encoding: Label encoding involves assigning a unique integer to each category. \n",
    "# This method is suitable for ordinal data, where there is an inherent order among categories.\n",
    "# However, it may not be suitable for nominal data.\n",
    "\n",
    "# Example:\n",
    "# Original categorical column: [\"Low\", \"Medium\", \"High\"]\n",
    "# Label encoded column: [0, 1, 2]\n",
    "\n",
    "# Binary Encoding: Binary encoding combines the advantages of one-hot encoding and label encoding. \n",
    "# It converts categories into binary code and then encodes them as integers.\n",
    "# It can be more memory-efficient than one-hot encoding.\n",
    "\n",
    "# Ordinal Encoding: Ordinal encoding is used when there is a clear order or ranking among categories.\n",
    "# Categories are mapped to integers according to their order.\n",
    "\n",
    "# Example:\n",
    "# Original categorical column: [\"Low\", \"Medium\", \"High\"]\n",
    "# Ordinal encoded column: [0, 1, 2]\n",
    "\n",
    "# The choice of encoding method depends on the nature of the data, the machine learning algorithm being used, and \n",
    "# the specific problem you are trying to solve. Choosing the right encoding method is crucial to ensure that \n",
    "# the encoded data represents the underlying information accurately and does not introduce biases into your\n",
    "# machine learning models."
   ]
  },
  {
   "cell_type": "code",
   "execution_count": 54,
   "id": "762cfd3c",
   "metadata": {},
   "outputs": [
    {
     "data": {
      "text/html": [
       "<div>\n",
       "<style scoped>\n",
       "    .dataframe tbody tr th:only-of-type {\n",
       "        vertical-align: middle;\n",
       "    }\n",
       "\n",
       "    .dataframe tbody tr th {\n",
       "        vertical-align: top;\n",
       "    }\n",
       "\n",
       "    .dataframe thead th {\n",
       "        text-align: right;\n",
       "    }\n",
       "</style>\n",
       "<table border=\"1\" class=\"dataframe\">\n",
       "  <thead>\n",
       "    <tr style=\"text-align: right;\">\n",
       "      <th></th>\n",
       "      <th>id</th>\n",
       "      <th>item_date</th>\n",
       "      <th>quantity tons</th>\n",
       "      <th>customer</th>\n",
       "      <th>country</th>\n",
       "      <th>status</th>\n",
       "      <th>item type</th>\n",
       "      <th>application</th>\n",
       "      <th>thickness</th>\n",
       "      <th>width</th>\n",
       "      <th>material_ref</th>\n",
       "      <th>product_ref</th>\n",
       "      <th>delivery date</th>\n",
       "      <th>selling_price</th>\n",
       "      <th>thickness_log</th>\n",
       "      <th>width_log</th>\n",
       "      <th>quantity_tons_log</th>\n",
       "      <th>application_log</th>\n",
       "    </tr>\n",
       "  </thead>\n",
       "  <tbody>\n",
       "    <tr>\n",
       "      <th>0</th>\n",
       "      <td>EC06F063-9DF0-440C-8764-0B0C05A4F6AE</td>\n",
       "      <td>1970-01-01 00:00:00.020210401</td>\n",
       "      <td>54.151139</td>\n",
       "      <td>30156308.0</td>\n",
       "      <td>28.0</td>\n",
       "      <td>Won</td>\n",
       "      <td>W</td>\n",
       "      <td>10.0</td>\n",
       "      <td>2.00</td>\n",
       "      <td>1500.0</td>\n",
       "      <td>DEQ1 S460MC</td>\n",
       "      <td>1670798778</td>\n",
       "      <td>1970-01-01 00:00:00.020210701</td>\n",
       "      <td>854.00</td>\n",
       "      <td>0.693147</td>\n",
       "      <td>11.447142</td>\n",
       "      <td>6.051334</td>\n",
       "      <td>2.302585</td>\n",
       "    </tr>\n",
       "    <tr>\n",
       "      <th>2</th>\n",
       "      <td>E140FF1B-2407-4C02-A0DD-780A093B1158</td>\n",
       "      <td>1970-01-01 00:00:00.020210401</td>\n",
       "      <td>171.759354</td>\n",
       "      <td>30153963.0</td>\n",
       "      <td>30.0</td>\n",
       "      <td>Won</td>\n",
       "      <td>WI</td>\n",
       "      <td>28.0</td>\n",
       "      <td>0.38</td>\n",
       "      <td>952.0</td>\n",
       "      <td>S0380700</td>\n",
       "      <td>628377</td>\n",
       "      <td>1970-01-01 00:00:00.020210101</td>\n",
       "      <td>644.33</td>\n",
       "      <td>-0.967584</td>\n",
       "      <td>9.837369</td>\n",
       "      <td>8.880757</td>\n",
       "      <td>3.332205</td>\n",
       "    </tr>\n",
       "    <tr>\n",
       "      <th>3</th>\n",
       "      <td>F8D507A0-9C62-4EFE-831E-33E1DA53BB50</td>\n",
       "      <td>1970-01-01 00:00:00.020210401</td>\n",
       "      <td>171.759354</td>\n",
       "      <td>30349574.0</td>\n",
       "      <td>32.0</td>\n",
       "      <td>Won</td>\n",
       "      <td>S</td>\n",
       "      <td>59.0</td>\n",
       "      <td>2.30</td>\n",
       "      <td>1317.0</td>\n",
       "      <td>DX51D+ZM310MAO 2.3X1317</td>\n",
       "      <td>1668701718</td>\n",
       "      <td>1970-01-01 00:00:00.020210101</td>\n",
       "      <td>768.00</td>\n",
       "      <td>0.832909</td>\n",
       "      <td>10.961296</td>\n",
       "      <td>8.880757</td>\n",
       "      <td>4.077537</td>\n",
       "    </tr>\n",
       "    <tr>\n",
       "      <th>4</th>\n",
       "      <td>4E1C4E78-152B-430A-8094-ADD889C9D0AD</td>\n",
       "      <td>1970-01-01 00:00:00.020210401</td>\n",
       "      <td>171.759354</td>\n",
       "      <td>30211560.0</td>\n",
       "      <td>28.0</td>\n",
       "      <td>Won</td>\n",
       "      <td>W</td>\n",
       "      <td>10.0</td>\n",
       "      <td>4.00</td>\n",
       "      <td>1989.0</td>\n",
       "      <td>2_S275JR+AR-CL1</td>\n",
       "      <td>640665</td>\n",
       "      <td>1970-01-01 00:00:00.020210301</td>\n",
       "      <td>577.00</td>\n",
       "      <td>1.386294</td>\n",
       "      <td>12.576069</td>\n",
       "      <td>8.880757</td>\n",
       "      <td>2.302585</td>\n",
       "    </tr>\n",
       "    <tr>\n",
       "      <th>6</th>\n",
       "      <td>E1B47219-42C8-411D-AE46-AD5256DC4757</td>\n",
       "      <td>1970-01-01 00:00:00.020210401</td>\n",
       "      <td>3.522613</td>\n",
       "      <td>30209509.0</td>\n",
       "      <td>30.0</td>\n",
       "      <td>Draft</td>\n",
       "      <td>W</td>\n",
       "      <td>41.0</td>\n",
       "      <td>0.38</td>\n",
       "      <td>1125.0</td>\n",
       "      <td>NBW_L+_A_1125_0.4</td>\n",
       "      <td>611993</td>\n",
       "      <td>1970-01-01 00:00:00.020210701</td>\n",
       "      <td>234.50</td>\n",
       "      <td>-0.967584</td>\n",
       "      <td>10.400419</td>\n",
       "      <td>1.427984</td>\n",
       "      <td>3.713572</td>\n",
       "    </tr>\n",
       "    <tr>\n",
       "      <th>...</th>\n",
       "      <td>...</td>\n",
       "      <td>...</td>\n",
       "      <td>...</td>\n",
       "      <td>...</td>\n",
       "      <td>...</td>\n",
       "      <td>...</td>\n",
       "      <td>...</td>\n",
       "      <td>...</td>\n",
       "      <td>...</td>\n",
       "      <td>...</td>\n",
       "      <td>...</td>\n",
       "      <td>...</td>\n",
       "      <td>...</td>\n",
       "      <td>...</td>\n",
       "      <td>...</td>\n",
       "      <td>...</td>\n",
       "      <td>...</td>\n",
       "      <td>...</td>\n",
       "    </tr>\n",
       "    <tr>\n",
       "      <th>181601</th>\n",
       "      <td>9520F0DD-4EA3-4D35-B23A-35908C5E77CA</td>\n",
       "      <td>1970-01-01 00:00:00.020200702</td>\n",
       "      <td>3.739726</td>\n",
       "      <td>30267349.0</td>\n",
       "      <td>84.0</td>\n",
       "      <td>Revised</td>\n",
       "      <td>W</td>\n",
       "      <td>10.0</td>\n",
       "      <td>2.00</td>\n",
       "      <td>1500.0</td>\n",
       "      <td>1S220A100P6FSB</td>\n",
       "      <td>164141591</td>\n",
       "      <td>1970-01-01 00:00:00.020200701</td>\n",
       "      <td>622.81</td>\n",
       "      <td>0.693147</td>\n",
       "      <td>11.447142</td>\n",
       "      <td>1.504963</td>\n",
       "      <td>2.302585</td>\n",
       "    </tr>\n",
       "    <tr>\n",
       "      <th>181602</th>\n",
       "      <td>D85912F7-0002-4EC5-9CFD-AD3803F44D91</td>\n",
       "      <td>1970-01-01 00:00:00.020200702</td>\n",
       "      <td>20.155119</td>\n",
       "      <td>30267349.0</td>\n",
       "      <td>84.0</td>\n",
       "      <td>Revised</td>\n",
       "      <td>W</td>\n",
       "      <td>10.0</td>\n",
       "      <td>2.00</td>\n",
       "      <td>1500.0</td>\n",
       "      <td>1S220A100P6FSA</td>\n",
       "      <td>164141591</td>\n",
       "      <td>1970-01-01 00:00:00.020200701</td>\n",
       "      <td>619.81</td>\n",
       "      <td>0.693147</td>\n",
       "      <td>11.447142</td>\n",
       "      <td>4.088238</td>\n",
       "      <td>2.302585</td>\n",
       "    </tr>\n",
       "    <tr>\n",
       "      <th>181603</th>\n",
       "      <td>E6A94878-F80E-4852-A217-928D6D9C4A28</td>\n",
       "      <td>1970-01-01 00:00:00.020200702</td>\n",
       "      <td>15.742266</td>\n",
       "      <td>30267349.0</td>\n",
       "      <td>84.0</td>\n",
       "      <td>Revised</td>\n",
       "      <td>W</td>\n",
       "      <td>10.0</td>\n",
       "      <td>2.00</td>\n",
       "      <td>1000.0</td>\n",
       "      <td>1S220A100P6FSA</td>\n",
       "      <td>164141591</td>\n",
       "      <td>1970-01-01 00:00:00.020200701</td>\n",
       "      <td>628.52</td>\n",
       "      <td>0.693147</td>\n",
       "      <td>10.000000</td>\n",
       "      <td>3.653948</td>\n",
       "      <td>2.302585</td>\n",
       "    </tr>\n",
       "    <tr>\n",
       "      <th>181604</th>\n",
       "      <td>B40F8127-D4AC-44B6-B200-FED2690EA8EF</td>\n",
       "      <td>1970-01-01 00:00:00.020200702</td>\n",
       "      <td>16.391009</td>\n",
       "      <td>30267349.0</td>\n",
       "      <td>84.0</td>\n",
       "      <td>Revised</td>\n",
       "      <td>W</td>\n",
       "      <td>10.0</td>\n",
       "      <td>2.00</td>\n",
       "      <td>1250.0</td>\n",
       "      <td>1S220A100P6FSA</td>\n",
       "      <td>164141591</td>\n",
       "      <td>1970-01-01 00:00:00.020200701</td>\n",
       "      <td>615.81</td>\n",
       "      <td>0.693147</td>\n",
       "      <td>10.772173</td>\n",
       "      <td>3.723493</td>\n",
       "      <td>2.302585</td>\n",
       "    </tr>\n",
       "    <tr>\n",
       "      <th>181605</th>\n",
       "      <td>3BCD0A7E-A2D9-40B1-8A86-35439AEDDFF3</td>\n",
       "      <td>1970-01-01 00:00:00.020200702</td>\n",
       "      <td>34.426799</td>\n",
       "      <td>30201369.0</td>\n",
       "      <td>25.0</td>\n",
       "      <td>Won</td>\n",
       "      <td>S</td>\n",
       "      <td>41.0</td>\n",
       "      <td>0.60</td>\n",
       "      <td>1288.0</td>\n",
       "      <td>202006170005.IO.1.1</td>\n",
       "      <td>611993</td>\n",
       "      <td>1970-01-01 00:00:00.020200701</td>\n",
       "      <td>981.00</td>\n",
       "      <td>-0.510826</td>\n",
       "      <td>10.880244</td>\n",
       "      <td>5.104417</td>\n",
       "      <td>3.713572</td>\n",
       "    </tr>\n",
       "  </tbody>\n",
       "</table>\n",
       "<p>81024 rows × 18 columns</p>\n",
       "</div>"
      ],
      "text/plain": [
       "                                          id                     item_date   \n",
       "0       EC06F063-9DF0-440C-8764-0B0C05A4F6AE 1970-01-01 00:00:00.020210401  \\\n",
       "2       E140FF1B-2407-4C02-A0DD-780A093B1158 1970-01-01 00:00:00.020210401   \n",
       "3       F8D507A0-9C62-4EFE-831E-33E1DA53BB50 1970-01-01 00:00:00.020210401   \n",
       "4       4E1C4E78-152B-430A-8094-ADD889C9D0AD 1970-01-01 00:00:00.020210401   \n",
       "6       E1B47219-42C8-411D-AE46-AD5256DC4757 1970-01-01 00:00:00.020210401   \n",
       "...                                      ...                           ...   \n",
       "181601  9520F0DD-4EA3-4D35-B23A-35908C5E77CA 1970-01-01 00:00:00.020200702   \n",
       "181602  D85912F7-0002-4EC5-9CFD-AD3803F44D91 1970-01-01 00:00:00.020200702   \n",
       "181603  E6A94878-F80E-4852-A217-928D6D9C4A28 1970-01-01 00:00:00.020200702   \n",
       "181604  B40F8127-D4AC-44B6-B200-FED2690EA8EF 1970-01-01 00:00:00.020200702   \n",
       "181605  3BCD0A7E-A2D9-40B1-8A86-35439AEDDFF3 1970-01-01 00:00:00.020200702   \n",
       "\n",
       "        quantity tons    customer  country   status item type  application   \n",
       "0           54.151139  30156308.0     28.0      Won         W         10.0  \\\n",
       "2          171.759354  30153963.0     30.0      Won        WI         28.0   \n",
       "3          171.759354  30349574.0     32.0      Won         S         59.0   \n",
       "4          171.759354  30211560.0     28.0      Won         W         10.0   \n",
       "6            3.522613  30209509.0     30.0    Draft         W         41.0   \n",
       "...               ...         ...      ...      ...       ...          ...   \n",
       "181601       3.739726  30267349.0     84.0  Revised         W         10.0   \n",
       "181602      20.155119  30267349.0     84.0  Revised         W         10.0   \n",
       "181603      15.742266  30267349.0     84.0  Revised         W         10.0   \n",
       "181604      16.391009  30267349.0     84.0  Revised         W         10.0   \n",
       "181605      34.426799  30201369.0     25.0      Won         S         41.0   \n",
       "\n",
       "        thickness   width             material_ref  product_ref   \n",
       "0            2.00  1500.0              DEQ1 S460MC   1670798778  \\\n",
       "2            0.38   952.0                 S0380700       628377   \n",
       "3            2.30  1317.0  DX51D+ZM310MAO 2.3X1317   1668701718   \n",
       "4            4.00  1989.0          2_S275JR+AR-CL1       640665   \n",
       "6            0.38  1125.0        NBW_L+_A_1125_0.4       611993   \n",
       "...           ...     ...                      ...          ...   \n",
       "181601       2.00  1500.0           1S220A100P6FSB    164141591   \n",
       "181602       2.00  1500.0           1S220A100P6FSA    164141591   \n",
       "181603       2.00  1000.0           1S220A100P6FSA    164141591   \n",
       "181604       2.00  1250.0           1S220A100P6FSA    164141591   \n",
       "181605       0.60  1288.0      202006170005.IO.1.1       611993   \n",
       "\n",
       "                       delivery date  selling_price  thickness_log  width_log   \n",
       "0      1970-01-01 00:00:00.020210701         854.00       0.693147  11.447142  \\\n",
       "2      1970-01-01 00:00:00.020210101         644.33      -0.967584   9.837369   \n",
       "3      1970-01-01 00:00:00.020210101         768.00       0.832909  10.961296   \n",
       "4      1970-01-01 00:00:00.020210301         577.00       1.386294  12.576069   \n",
       "6      1970-01-01 00:00:00.020210701         234.50      -0.967584  10.400419   \n",
       "...                              ...            ...            ...        ...   \n",
       "181601 1970-01-01 00:00:00.020200701         622.81       0.693147  11.447142   \n",
       "181602 1970-01-01 00:00:00.020200701         619.81       0.693147  11.447142   \n",
       "181603 1970-01-01 00:00:00.020200701         628.52       0.693147  10.000000   \n",
       "181604 1970-01-01 00:00:00.020200701         615.81       0.693147  10.772173   \n",
       "181605 1970-01-01 00:00:00.020200701         981.00      -0.510826  10.880244   \n",
       "\n",
       "        quantity_tons_log  application_log  \n",
       "0                6.051334         2.302585  \n",
       "2                8.880757         3.332205  \n",
       "3                8.880757         4.077537  \n",
       "4                8.880757         2.302585  \n",
       "6                1.427984         3.713572  \n",
       "...                   ...              ...  \n",
       "181601           1.504963         2.302585  \n",
       "181602           4.088238         2.302585  \n",
       "181603           3.653948         2.302585  \n",
       "181604           3.723493         2.302585  \n",
       "181605           5.104417         3.713572  \n",
       "\n",
       "[81024 rows x 18 columns]"
      ]
     },
     "execution_count": 54,
     "metadata": {},
     "output_type": "execute_result"
    }
   ],
   "source": [
    "df"
   ]
  },
  {
   "cell_type": "code",
   "execution_count": 55,
   "id": "7cf26992",
   "metadata": {},
   "outputs": [
    {
     "data": {
      "text/plain": [
       "status\n",
       "Won                59285\n",
       "Lost                8744\n",
       "Not lost for AM     7792\n",
       "To be approved      2347\n",
       "Draft               1539\n",
       "Revised             1303\n",
       "Offered               13\n",
       "Offerable              1\n",
       "Name: count, dtype: int64"
      ]
     },
     "execution_count": 55,
     "metadata": {},
     "output_type": "execute_result"
    }
   ],
   "source": [
    "df['status'].value_counts()"
   ]
  },
  {
   "cell_type": "code",
   "execution_count": 56,
   "id": "8ed2883d",
   "metadata": {},
   "outputs": [
    {
     "data": {
      "text/html": [
       "<div>\n",
       "<style scoped>\n",
       "    .dataframe tbody tr th:only-of-type {\n",
       "        vertical-align: middle;\n",
       "    }\n",
       "\n",
       "    .dataframe tbody tr th {\n",
       "        vertical-align: top;\n",
       "    }\n",
       "\n",
       "    .dataframe thead th {\n",
       "        text-align: right;\n",
       "    }\n",
       "</style>\n",
       "<table border=\"1\" class=\"dataframe\">\n",
       "  <thead>\n",
       "    <tr style=\"text-align: right;\">\n",
       "      <th></th>\n",
       "      <th>id</th>\n",
       "      <th>item_date</th>\n",
       "      <th>quantity tons</th>\n",
       "      <th>customer</th>\n",
       "      <th>country</th>\n",
       "      <th>application</th>\n",
       "      <th>thickness</th>\n",
       "      <th>width</th>\n",
       "      <th>material_ref</th>\n",
       "      <th>product_ref</th>\n",
       "      <th>...</th>\n",
       "      <th>item type_S</th>\n",
       "      <th>item type_W</th>\n",
       "      <th>item type_WI</th>\n",
       "      <th>status_Lost</th>\n",
       "      <th>status_Not lost for AM</th>\n",
       "      <th>status_Offerable</th>\n",
       "      <th>status_Offered</th>\n",
       "      <th>status_Revised</th>\n",
       "      <th>status_To be approved</th>\n",
       "      <th>status_Won</th>\n",
       "    </tr>\n",
       "  </thead>\n",
       "  <tbody>\n",
       "    <tr>\n",
       "      <th>0</th>\n",
       "      <td>EC06F063-9DF0-440C-8764-0B0C05A4F6AE</td>\n",
       "      <td>1970-01-01 00:00:00.020210401</td>\n",
       "      <td>54.151139</td>\n",
       "      <td>30156308.0</td>\n",
       "      <td>28.0</td>\n",
       "      <td>10.0</td>\n",
       "      <td>2.00</td>\n",
       "      <td>1500.0</td>\n",
       "      <td>DEQ1 S460MC</td>\n",
       "      <td>1670798778</td>\n",
       "      <td>...</td>\n",
       "      <td>0</td>\n",
       "      <td>1</td>\n",
       "      <td>0</td>\n",
       "      <td>0</td>\n",
       "      <td>0</td>\n",
       "      <td>0</td>\n",
       "      <td>0</td>\n",
       "      <td>0</td>\n",
       "      <td>0</td>\n",
       "      <td>1</td>\n",
       "    </tr>\n",
       "    <tr>\n",
       "      <th>2</th>\n",
       "      <td>E140FF1B-2407-4C02-A0DD-780A093B1158</td>\n",
       "      <td>1970-01-01 00:00:00.020210401</td>\n",
       "      <td>171.759354</td>\n",
       "      <td>30153963.0</td>\n",
       "      <td>30.0</td>\n",
       "      <td>28.0</td>\n",
       "      <td>0.38</td>\n",
       "      <td>952.0</td>\n",
       "      <td>S0380700</td>\n",
       "      <td>628377</td>\n",
       "      <td>...</td>\n",
       "      <td>0</td>\n",
       "      <td>0</td>\n",
       "      <td>1</td>\n",
       "      <td>0</td>\n",
       "      <td>0</td>\n",
       "      <td>0</td>\n",
       "      <td>0</td>\n",
       "      <td>0</td>\n",
       "      <td>0</td>\n",
       "      <td>1</td>\n",
       "    </tr>\n",
       "    <tr>\n",
       "      <th>3</th>\n",
       "      <td>F8D507A0-9C62-4EFE-831E-33E1DA53BB50</td>\n",
       "      <td>1970-01-01 00:00:00.020210401</td>\n",
       "      <td>171.759354</td>\n",
       "      <td>30349574.0</td>\n",
       "      <td>32.0</td>\n",
       "      <td>59.0</td>\n",
       "      <td>2.30</td>\n",
       "      <td>1317.0</td>\n",
       "      <td>DX51D+ZM310MAO 2.3X1317</td>\n",
       "      <td>1668701718</td>\n",
       "      <td>...</td>\n",
       "      <td>1</td>\n",
       "      <td>0</td>\n",
       "      <td>0</td>\n",
       "      <td>0</td>\n",
       "      <td>0</td>\n",
       "      <td>0</td>\n",
       "      <td>0</td>\n",
       "      <td>0</td>\n",
       "      <td>0</td>\n",
       "      <td>1</td>\n",
       "    </tr>\n",
       "    <tr>\n",
       "      <th>4</th>\n",
       "      <td>4E1C4E78-152B-430A-8094-ADD889C9D0AD</td>\n",
       "      <td>1970-01-01 00:00:00.020210401</td>\n",
       "      <td>171.759354</td>\n",
       "      <td>30211560.0</td>\n",
       "      <td>28.0</td>\n",
       "      <td>10.0</td>\n",
       "      <td>4.00</td>\n",
       "      <td>1989.0</td>\n",
       "      <td>2_S275JR+AR-CL1</td>\n",
       "      <td>640665</td>\n",
       "      <td>...</td>\n",
       "      <td>0</td>\n",
       "      <td>1</td>\n",
       "      <td>0</td>\n",
       "      <td>0</td>\n",
       "      <td>0</td>\n",
       "      <td>0</td>\n",
       "      <td>0</td>\n",
       "      <td>0</td>\n",
       "      <td>0</td>\n",
       "      <td>1</td>\n",
       "    </tr>\n",
       "    <tr>\n",
       "      <th>6</th>\n",
       "      <td>E1B47219-42C8-411D-AE46-AD5256DC4757</td>\n",
       "      <td>1970-01-01 00:00:00.020210401</td>\n",
       "      <td>3.522613</td>\n",
       "      <td>30209509.0</td>\n",
       "      <td>30.0</td>\n",
       "      <td>41.0</td>\n",
       "      <td>0.38</td>\n",
       "      <td>1125.0</td>\n",
       "      <td>NBW_L+_A_1125_0.4</td>\n",
       "      <td>611993</td>\n",
       "      <td>...</td>\n",
       "      <td>0</td>\n",
       "      <td>1</td>\n",
       "      <td>0</td>\n",
       "      <td>0</td>\n",
       "      <td>0</td>\n",
       "      <td>0</td>\n",
       "      <td>0</td>\n",
       "      <td>0</td>\n",
       "      <td>0</td>\n",
       "      <td>0</td>\n",
       "    </tr>\n",
       "    <tr>\n",
       "      <th>...</th>\n",
       "      <td>...</td>\n",
       "      <td>...</td>\n",
       "      <td>...</td>\n",
       "      <td>...</td>\n",
       "      <td>...</td>\n",
       "      <td>...</td>\n",
       "      <td>...</td>\n",
       "      <td>...</td>\n",
       "      <td>...</td>\n",
       "      <td>...</td>\n",
       "      <td>...</td>\n",
       "      <td>...</td>\n",
       "      <td>...</td>\n",
       "      <td>...</td>\n",
       "      <td>...</td>\n",
       "      <td>...</td>\n",
       "      <td>...</td>\n",
       "      <td>...</td>\n",
       "      <td>...</td>\n",
       "      <td>...</td>\n",
       "      <td>...</td>\n",
       "    </tr>\n",
       "    <tr>\n",
       "      <th>181601</th>\n",
       "      <td>9520F0DD-4EA3-4D35-B23A-35908C5E77CA</td>\n",
       "      <td>1970-01-01 00:00:00.020200702</td>\n",
       "      <td>3.739726</td>\n",
       "      <td>30267349.0</td>\n",
       "      <td>84.0</td>\n",
       "      <td>10.0</td>\n",
       "      <td>2.00</td>\n",
       "      <td>1500.0</td>\n",
       "      <td>1S220A100P6FSB</td>\n",
       "      <td>164141591</td>\n",
       "      <td>...</td>\n",
       "      <td>0</td>\n",
       "      <td>1</td>\n",
       "      <td>0</td>\n",
       "      <td>0</td>\n",
       "      <td>0</td>\n",
       "      <td>0</td>\n",
       "      <td>0</td>\n",
       "      <td>1</td>\n",
       "      <td>0</td>\n",
       "      <td>0</td>\n",
       "    </tr>\n",
       "    <tr>\n",
       "      <th>181602</th>\n",
       "      <td>D85912F7-0002-4EC5-9CFD-AD3803F44D91</td>\n",
       "      <td>1970-01-01 00:00:00.020200702</td>\n",
       "      <td>20.155119</td>\n",
       "      <td>30267349.0</td>\n",
       "      <td>84.0</td>\n",
       "      <td>10.0</td>\n",
       "      <td>2.00</td>\n",
       "      <td>1500.0</td>\n",
       "      <td>1S220A100P6FSA</td>\n",
       "      <td>164141591</td>\n",
       "      <td>...</td>\n",
       "      <td>0</td>\n",
       "      <td>1</td>\n",
       "      <td>0</td>\n",
       "      <td>0</td>\n",
       "      <td>0</td>\n",
       "      <td>0</td>\n",
       "      <td>0</td>\n",
       "      <td>1</td>\n",
       "      <td>0</td>\n",
       "      <td>0</td>\n",
       "    </tr>\n",
       "    <tr>\n",
       "      <th>181603</th>\n",
       "      <td>E6A94878-F80E-4852-A217-928D6D9C4A28</td>\n",
       "      <td>1970-01-01 00:00:00.020200702</td>\n",
       "      <td>15.742266</td>\n",
       "      <td>30267349.0</td>\n",
       "      <td>84.0</td>\n",
       "      <td>10.0</td>\n",
       "      <td>2.00</td>\n",
       "      <td>1000.0</td>\n",
       "      <td>1S220A100P6FSA</td>\n",
       "      <td>164141591</td>\n",
       "      <td>...</td>\n",
       "      <td>0</td>\n",
       "      <td>1</td>\n",
       "      <td>0</td>\n",
       "      <td>0</td>\n",
       "      <td>0</td>\n",
       "      <td>0</td>\n",
       "      <td>0</td>\n",
       "      <td>1</td>\n",
       "      <td>0</td>\n",
       "      <td>0</td>\n",
       "    </tr>\n",
       "    <tr>\n",
       "      <th>181604</th>\n",
       "      <td>B40F8127-D4AC-44B6-B200-FED2690EA8EF</td>\n",
       "      <td>1970-01-01 00:00:00.020200702</td>\n",
       "      <td>16.391009</td>\n",
       "      <td>30267349.0</td>\n",
       "      <td>84.0</td>\n",
       "      <td>10.0</td>\n",
       "      <td>2.00</td>\n",
       "      <td>1250.0</td>\n",
       "      <td>1S220A100P6FSA</td>\n",
       "      <td>164141591</td>\n",
       "      <td>...</td>\n",
       "      <td>0</td>\n",
       "      <td>1</td>\n",
       "      <td>0</td>\n",
       "      <td>0</td>\n",
       "      <td>0</td>\n",
       "      <td>0</td>\n",
       "      <td>0</td>\n",
       "      <td>1</td>\n",
       "      <td>0</td>\n",
       "      <td>0</td>\n",
       "    </tr>\n",
       "    <tr>\n",
       "      <th>181605</th>\n",
       "      <td>3BCD0A7E-A2D9-40B1-8A86-35439AEDDFF3</td>\n",
       "      <td>1970-01-01 00:00:00.020200702</td>\n",
       "      <td>34.426799</td>\n",
       "      <td>30201369.0</td>\n",
       "      <td>25.0</td>\n",
       "      <td>41.0</td>\n",
       "      <td>0.60</td>\n",
       "      <td>1288.0</td>\n",
       "      <td>202006170005.IO.1.1</td>\n",
       "      <td>611993</td>\n",
       "      <td>...</td>\n",
       "      <td>1</td>\n",
       "      <td>0</td>\n",
       "      <td>0</td>\n",
       "      <td>0</td>\n",
       "      <td>0</td>\n",
       "      <td>0</td>\n",
       "      <td>0</td>\n",
       "      <td>0</td>\n",
       "      <td>0</td>\n",
       "      <td>1</td>\n",
       "    </tr>\n",
       "  </tbody>\n",
       "</table>\n",
       "<p>81024 rows × 28 columns</p>\n",
       "</div>"
      ],
      "text/plain": [
       "                                          id                     item_date   \n",
       "0       EC06F063-9DF0-440C-8764-0B0C05A4F6AE 1970-01-01 00:00:00.020210401  \\\n",
       "2       E140FF1B-2407-4C02-A0DD-780A093B1158 1970-01-01 00:00:00.020210401   \n",
       "3       F8D507A0-9C62-4EFE-831E-33E1DA53BB50 1970-01-01 00:00:00.020210401   \n",
       "4       4E1C4E78-152B-430A-8094-ADD889C9D0AD 1970-01-01 00:00:00.020210401   \n",
       "6       E1B47219-42C8-411D-AE46-AD5256DC4757 1970-01-01 00:00:00.020210401   \n",
       "...                                      ...                           ...   \n",
       "181601  9520F0DD-4EA3-4D35-B23A-35908C5E77CA 1970-01-01 00:00:00.020200702   \n",
       "181602  D85912F7-0002-4EC5-9CFD-AD3803F44D91 1970-01-01 00:00:00.020200702   \n",
       "181603  E6A94878-F80E-4852-A217-928D6D9C4A28 1970-01-01 00:00:00.020200702   \n",
       "181604  B40F8127-D4AC-44B6-B200-FED2690EA8EF 1970-01-01 00:00:00.020200702   \n",
       "181605  3BCD0A7E-A2D9-40B1-8A86-35439AEDDFF3 1970-01-01 00:00:00.020200702   \n",
       "\n",
       "        quantity tons    customer  country  application  thickness   width   \n",
       "0           54.151139  30156308.0     28.0         10.0       2.00  1500.0  \\\n",
       "2          171.759354  30153963.0     30.0         28.0       0.38   952.0   \n",
       "3          171.759354  30349574.0     32.0         59.0       2.30  1317.0   \n",
       "4          171.759354  30211560.0     28.0         10.0       4.00  1989.0   \n",
       "6            3.522613  30209509.0     30.0         41.0       0.38  1125.0   \n",
       "...               ...         ...      ...          ...        ...     ...   \n",
       "181601       3.739726  30267349.0     84.0         10.0       2.00  1500.0   \n",
       "181602      20.155119  30267349.0     84.0         10.0       2.00  1500.0   \n",
       "181603      15.742266  30267349.0     84.0         10.0       2.00  1000.0   \n",
       "181604      16.391009  30267349.0     84.0         10.0       2.00  1250.0   \n",
       "181605      34.426799  30201369.0     25.0         41.0       0.60  1288.0   \n",
       "\n",
       "                   material_ref  product_ref  ... item type_S  item type_W   \n",
       "0                   DEQ1 S460MC   1670798778  ...           0            1  \\\n",
       "2                      S0380700       628377  ...           0            0   \n",
       "3       DX51D+ZM310MAO 2.3X1317   1668701718  ...           1            0   \n",
       "4               2_S275JR+AR-CL1       640665  ...           0            1   \n",
       "6             NBW_L+_A_1125_0.4       611993  ...           0            1   \n",
       "...                         ...          ...  ...         ...          ...   \n",
       "181601           1S220A100P6FSB    164141591  ...           0            1   \n",
       "181602           1S220A100P6FSA    164141591  ...           0            1   \n",
       "181603           1S220A100P6FSA    164141591  ...           0            1   \n",
       "181604           1S220A100P6FSA    164141591  ...           0            1   \n",
       "181605      202006170005.IO.1.1       611993  ...           1            0   \n",
       "\n",
       "        item type_WI  status_Lost  status_Not lost for AM  status_Offerable   \n",
       "0                  0            0                       0                 0  \\\n",
       "2                  1            0                       0                 0   \n",
       "3                  0            0                       0                 0   \n",
       "4                  0            0                       0                 0   \n",
       "6                  0            0                       0                 0   \n",
       "...              ...          ...                     ...               ...   \n",
       "181601             0            0                       0                 0   \n",
       "181602             0            0                       0                 0   \n",
       "181603             0            0                       0                 0   \n",
       "181604             0            0                       0                 0   \n",
       "181605             0            0                       0                 0   \n",
       "\n",
       "        status_Offered  status_Revised  status_To be approved  status_Won  \n",
       "0                    0               0                      0           1  \n",
       "2                    0               0                      0           1  \n",
       "3                    0               0                      0           1  \n",
       "4                    0               0                      0           1  \n",
       "6                    0               0                      0           0  \n",
       "...                ...             ...                    ...         ...  \n",
       "181601               0               1                      0           0  \n",
       "181602               0               1                      0           0  \n",
       "181603               0               1                      0           0  \n",
       "181604               0               1                      0           0  \n",
       "181605               0               0                      0           1  \n",
       "\n",
       "[81024 rows x 28 columns]"
      ]
     },
     "execution_count": 56,
     "metadata": {},
     "output_type": "execute_result"
    }
   ],
   "source": [
    "one_hot_encoded = pd.get_dummies(df, columns=['item type','status'], drop_first=True,dtype=int)\n",
    "one_hot_encoded"
   ]
  },
  {
   "cell_type": "code",
   "execution_count": 57,
   "id": "ec6b2503",
   "metadata": {},
   "outputs": [
    {
     "data": {
      "text/plain": [
       "Index(['id', 'item_date', 'quantity tons', 'customer', 'country',\n",
       "       'application', 'thickness', 'width', 'material_ref', 'product_ref',\n",
       "       'delivery date', 'selling_price', 'thickness_log', 'width_log',\n",
       "       'quantity_tons_log', 'application_log', 'item type_Others',\n",
       "       'item type_PL', 'item type_S', 'item type_W', 'item type_WI',\n",
       "       'status_Lost', 'status_Not lost for AM', 'status_Offerable',\n",
       "       'status_Offered', 'status_Revised', 'status_To be approved',\n",
       "       'status_Won'],\n",
       "      dtype='object')"
      ]
     },
     "execution_count": 57,
     "metadata": {},
     "output_type": "execute_result"
    }
   ],
   "source": [
    "one_hot_encoded.columns"
   ]
  },
  {
   "cell_type": "code",
   "execution_count": 58,
   "id": "72a77578",
   "metadata": {},
   "outputs": [
    {
     "data": {
      "text/plain": [
       "id                                object\n",
       "item_date                 datetime64[ns]\n",
       "quantity tons                    float64\n",
       "customer                         float64\n",
       "country                          float64\n",
       "application                      float64\n",
       "thickness                        float64\n",
       "width                            float64\n",
       "material_ref                      object\n",
       "product_ref                        int64\n",
       "delivery date             datetime64[ns]\n",
       "selling_price                    float64\n",
       "thickness_log                    float64\n",
       "width_log                        float64\n",
       "quantity_tons_log                float64\n",
       "application_log                  float64\n",
       "item type_Others                   int32\n",
       "item type_PL                       int32\n",
       "item type_S                        int32\n",
       "item type_W                        int32\n",
       "item type_WI                       int32\n",
       "status_Lost                        int32\n",
       "status_Not lost for AM             int32\n",
       "status_Offerable                   int32\n",
       "status_Offered                     int32\n",
       "status_Revised                     int32\n",
       "status_To be approved              int32\n",
       "status_Won                         int32\n",
       "dtype: object"
      ]
     },
     "execution_count": 58,
     "metadata": {},
     "output_type": "execute_result"
    }
   ],
   "source": [
    "one_hot_encoded.dtypes"
   ]
  },
  {
   "cell_type": "markdown",
   "id": "f261c191",
   "metadata": {},
   "source": [
    "# FEATURE ENGINEERING"
   ]
  },
  {
   "cell_type": "code",
   "execution_count": 59,
   "id": "3d211964",
   "metadata": {},
   "outputs": [
    {
     "data": {
      "image/png": "[encoded data removed]",
      "text/plain": [
       "<Figure size 2000x1000 with 2 Axes>"
      ]
     },
     "metadata": {},
     "output_type": "display_data"
    }
   ],
   "source": [
    "# Select only numeric columns from your DataFrame\n",
    "numeric_data = df.select_dtypes(include=[np.number])\n",
    "\n",
    "# Create a correlation matrix for numeric columns\n",
    "correlation_matrix = numeric_data.corr().abs()\n",
    "#if this code not working add [255] code top of this code\n",
    "# Create a heatmap\n",
    "plt.figure(figsize=(20, 10))\n",
    "sns.heatmap(correlation_matrix, annot=True)\n",
    "plt.show()"
   ]
  },
  {
   "cell_type": "markdown",
   "id": "61ab59d8",
   "metadata": {},
   "source": [
    "# split the data into traning and testing / validation test"
   ]
  },
  {
   "cell_type": "code",
   "execution_count": 60,
   "id": "55b24c35",
   "metadata": {},
   "outputs": [],
   "source": [
    "from sklearn.preprocessing import StandardScaler,OneHotEncoder,LabelBinarizer\n",
    "from sklearn.model_selection import train_test_split"
   ]
  },
  {
   "cell_type": "code",
   "execution_count": 61,
   "id": "0b155ef8",
   "metadata": {},
   "outputs": [],
   "source": [
    "X = one_hot_encoded[[ 'thickness_log', 'width_log',\n",
    "       'quantity_tons_log', 'application_log', 'item type_Others',\n",
    "       'item type_PL', 'item type_S', 'item type_W', 'item type_WI',\n",
    "       'status_Lost', 'status_Not lost for AM', 'status_Offerable',\n",
    "       'status_Offered', 'status_Revised', 'status_To be approved',\n",
    "       'status_Won']].values\n",
    "#important feature\n",
    "\n",
    "y=df[['selling_price']].values#predicted targets"
   ]
  },
  {
   "cell_type": "code",
   "execution_count": 62,
   "id": "405a3df5",
   "metadata": {},
   "outputs": [
    {
     "data": {
      "text/plain": [
       "(81024, 16)"
      ]
     },
     "execution_count": 62,
     "metadata": {},
     "output_type": "execute_result"
    }
   ],
   "source": [
    "X.shape"
   ]
  },
  {
   "cell_type": "code",
   "execution_count": 63,
   "id": "4057a265",
   "metadata": {},
   "outputs": [
    {
     "data": {
      "text/plain": [
       "(81024, 1)"
      ]
     },
     "execution_count": 63,
     "metadata": {},
     "output_type": "execute_result"
    }
   ],
   "source": [
    "y.shape"
   ]
  },
  {
   "cell_type": "code",
   "execution_count": 64,
   "id": "b59f8093",
   "metadata": {},
   "outputs": [
    {
     "data": {
      "text/plain": [
       "array([[ 0.38618471,  0.91521775,  0.44533218, ..., -0.12784562,\n",
       "        -0.17271603,  0.60554632],\n",
       "       [-1.54561776, -1.51228717,  1.615364  , ..., -0.12784562,\n",
       "        -0.17271603,  0.60554632],\n",
       "       [ 0.54875916,  0.18257195,  1.615364  , ..., -0.12784562,\n",
       "        -0.17271603,  0.60554632],\n",
       "       ...,\n",
       "       [ 0.38618471, -1.26704363, -0.54604254, ...,  7.82193425,\n",
       "        -0.17271603, -1.65140133],\n",
       "       [ 0.38618471, -0.10262175, -0.5172839 , ...,  7.82193425,\n",
       "        -0.17271603, -1.65140133],\n",
       "       [-1.01430541,  0.06034592,  0.05376014, ..., -0.12784562,\n",
       "        -0.17271603,  0.60554632]])"
      ]
     },
     "execution_count": 64,
     "metadata": {},
     "output_type": "execute_result"
    }
   ],
   "source": [
    "scaler = StandardScaler()\n",
    "X = scaler.fit_transform(X)\n",
    "X"
   ]
  },
  {
   "cell_type": "code",
   "execution_count": 65,
   "id": "6b04d9b5",
   "metadata": {},
   "outputs": [],
   "source": [
    "X_train, X_test, y_train, y_test = train_test_split(X, y, test_size=0.1, random_state=42)"
   ]
  },
  {
   "cell_type": "markdown",
   "id": "b2a1992c",
   "metadata": {},
   "source": [
    "# Model Fitting"
   ]
  },
  {
   "cell_type": "code",
   "execution_count": 66,
   "id": "3bce5c39",
   "metadata": {},
   "outputs": [],
   "source": [
    "from sklearn import datasets\n",
    "from sklearn.model_selection import train_test_split\n",
    "from sklearn.ensemble import RandomForestRegressor\n",
    "\n",
    "from sklearn.metrics import mean_squared_error, r2_score"
   ]
  },
  {
   "cell_type": "code",
   "execution_count": 67,
   "id": "b78b0a67",
   "metadata": {},
   "outputs": [],
   "source": [
    "model = RandomForestRegressor(n_estimators=100, random_state=42)  # You can adjust the hyperparameters as needed\n",
    "from sklearn.ensemble import RandomForestRegressor\n",
    "\n",
    "\n"
   ]
  },
  {
   "cell_type": "code",
   "execution_count": null,
   "id": "c603bbf1",
   "metadata": {},
   "outputs": [],
   "source": []
  },
  {
   "cell_type": "code",
   "execution_count": 68,
   "id": "0d621588",
   "metadata": {},
   "outputs": [
    {
     "data": {
      "text/html": [
       "<style>#sk-container-id-1 {color: black;}#sk-container-id-1 pre{padding: 0;}#sk-container-id-1 div.sk-toggleable {background-color: white;}#sk-container-id-1 label.sk-toggleable__label {cursor: pointer;display: block;width: 100%;margin-bottom: 0;padding: 0.3em;box-sizing: border-box;text-align: center;}#sk-container-id-1 label.sk-toggleable__label-arrow:before {content: \"▸\";float: left;margin-right: 0.25em;color: #696969;}#sk-container-id-1 label.sk-toggleable__label-arrow:hover:before {color: black;}#sk-container-id-1 div.sk-estimator:hover label.sk-toggleable__label-arrow:before {color: black;}#sk-container-id-1 div.sk-toggleable__content {max-height: 0;max-width: 0;overflow: hidden;text-align: left;background-color: #f0f8ff;}#sk-container-id-1 div.sk-toggleable__content pre {margin: 0.2em;color: black;border-radius: 0.25em;background-color: #f0f8ff;}#sk-container-id-1 input.sk-toggleable__control:checked~div.sk-toggleable__content {max-height: 200px;max-width: 100%;overflow: auto;}#sk-container-id-1 input.sk-toggleable__control:checked~label.sk-toggleable__label-arrow:before {content: \"▾\";}#sk-container-id-1 div.sk-estimator input.sk-toggleable__control:checked~label.sk-toggleable__label {background-color: #d4ebff;}#sk-container-id-1 div.sk-label input.sk-toggleable__control:checked~label.sk-toggleable__label {background-color: #d4ebff;}#sk-container-id-1 input.sk-hidden--visually {border: 0;clip: rect(1px 1px 1px 1px);clip: rect(1px, 1px, 1px, 1px);height: 1px;margin: -1px;overflow: hidden;padding: 0;position: absolute;width: 1px;}#sk-container-id-1 div.sk-estimator {font-family: monospace;background-color: #f0f8ff;border: 1px dotted black;border-radius: 0.25em;box-sizing: border-box;margin-bottom: 0.5em;}#sk-container-id-1 div.sk-estimator:hover {background-color: #d4ebff;}#sk-container-id-1 div.sk-parallel-item::after {content: \"\";width: 100%;border-bottom: 1px solid gray;flex-grow: 1;}#sk-container-id-1 div.sk-label:hover label.sk-toggleable__label {background-color: #d4ebff;}#sk-container-id-1 div.sk-serial::before {content: \"\";position: absolute;border-left: 1px solid gray;box-sizing: border-box;top: 0;bottom: 0;left: 50%;z-index: 0;}#sk-container-id-1 div.sk-serial {display: flex;flex-direction: column;align-items: center;background-color: white;padding-right: 0.2em;padding-left: 0.2em;position: relative;}#sk-container-id-1 div.sk-item {position: relative;z-index: 1;}#sk-container-id-1 div.sk-parallel {display: flex;align-items: stretch;justify-content: center;background-color: white;position: relative;}#sk-container-id-1 div.sk-item::before, #sk-container-id-1 div.sk-parallel-item::before {content: \"\";position: absolute;border-left: 1px solid gray;box-sizing: border-box;top: 0;bottom: 0;left: 50%;z-index: -1;}#sk-container-id-1 div.sk-parallel-item {display: flex;flex-direction: column;z-index: 1;position: relative;background-color: white;}#sk-container-id-1 div.sk-parallel-item:first-child::after {align-self: flex-end;width: 50%;}#sk-container-id-1 div.sk-parallel-item:last-child::after {align-self: flex-start;width: 50%;}#sk-container-id-1 div.sk-parallel-item:only-child::after {width: 0;}#sk-container-id-1 div.sk-dashed-wrapped {border: 1px dashed gray;margin: 0 0.4em 0.5em 0.4em;box-sizing: border-box;padding-bottom: 0.4em;background-color: white;}#sk-container-id-1 div.sk-label label {font-family: monospace;font-weight: bold;display: inline-block;line-height: 1.2em;}#sk-container-id-1 div.sk-label-container {text-align: center;}#sk-container-id-1 div.sk-container {/* jupyter's `normalize.less` sets `[hidden] { display: none; }` but bootstrap.min.css set `[hidden] { display: none !important; }` so we also need the `!important` here to be able to override the default hidden behavior on the sphinx rendered scikit-learn.org. See: https://github.com/scikit-learn/scikit-learn/issues/21755 */display: inline-block !important;position: relative;}#sk-container-id-1 div.sk-text-repr-fallback {display: none;}</style><div id=\"sk-container-id-1\" class=\"sk-top-container\"><div class=\"sk-text-repr-fallback\"><pre>RandomForestRegressor(random_state=42)</pre><b>In a Jupyter environment, please rerun this cell to show the HTML representation or trust the notebook. <br />On GitHub, the HTML representation is unable to render, please try loading this page with nbviewer.org.</b></div><div class=\"sk-container\" hidden><div class=\"sk-item\"><div class=\"sk-estimator sk-toggleable\"><input class=\"sk-toggleable__control sk-hidden--visually\" id=\"sk-estimator-id-1\" type=\"checkbox\" checked><label for=\"sk-estimator-id-1\" class=\"sk-toggleable__label sk-toggleable__label-arrow\">RandomForestRegressor</label><div class=\"sk-toggleable__content\"><pre>RandomForestRegressor(random_state=42)</pre></div></div></div></div></div>"
      ],
      "text/plain": [
       "RandomForestRegressor(random_state=42)"
      ]
     },
     "execution_count": 68,
     "metadata": {},
     "output_type": "execute_result"
    }
   ],
   "source": [
    "import numpy as np\n",
    "\n",
    "# Assuming y_train is a 2D array or DataFrame\n",
    "y_train = np.ravel(y_train)\n",
    "\n",
    "# Now you can use y_train in your RandomForestRegressor.fit method\n",
    "model.fit(X_train, y_train)\n"
   ]
  },
  {
   "cell_type": "code",
   "execution_count": 69,
   "id": "3ecf3578",
   "metadata": {
    "scrolled": true
   },
   "outputs": [],
   "source": [
    "y_pred =model.predict(X_test)"
   ]
  },
  {
   "cell_type": "code",
   "execution_count": 70,
   "id": "a7d2cb2a",
   "metadata": {},
   "outputs": [
    {
     "name": "stdout",
     "output_type": "stream",
     "text": [
      "Mean Squared Error (MSE): 20371.01827375029\n",
      "R-squared (R2): 0.5328982995059584\n"
     ]
    }
   ],
   "source": [
    "# Evaluate the model using mean squared error (MSE) and R-squared (R2)\n",
    "mse = mean_squared_error(y_test, y_pred)\n",
    "r2 = r2_score(y_test, y_pred)\n",
    "print(\"Mean Squared Error (MSE):\", mse)\n",
    "print(\"R-squared (R2):\", r2)"
   ]
  },
  {
   "cell_type": "code",
   "execution_count": 71,
   "id": "fd8b6043",
   "metadata": {
    "scrolled": true
   },
   "outputs": [
    {
     "name": "stdout",
     "output_type": "stream",
     "text": [
      "[-21289.44565927 -20938.79261983 -21552.65323565 -21264.42910435\n",
      " -21603.35774085]\n"
     ]
    }
   ],
   "source": [
    "from sklearn.model_selection import cross_val_score\n",
    "\n",
    "# Perform k-fold cross-validation with k=5 (you can change k as needed)\n",
    "k = 5  # Number of folds\n",
    "cv_scores = cross_val_score(model, X_train, y_train, cv=k, scoring='neg_mean_squared_error')\n",
    "print(cv_scores)\n",
    "\n",
    "# # Convert negative mean squared error to positive (if preferred)\n",
    "# mse_cv_scores = -cv_scores\n",
    "\n",
    "# # Print the cross-validation scores for each fold\n",
    "# print(\"Cross-validation Mean Squared Error scores:\", mse_cv_scores)\n",
    "\n",
    "# # Calculate and print the mean score and standard deviation\n",
    "# mean_score = mse_cv_scores.mean()\n",
    "# std_deviation = mse_cv_scores.std()\n",
    "# print(f\"Mean Mean Squared Error: {mean_score:.2f}\")\n",
    "# print(f\"Standard Deviation: {std_deviation:.2f}\")\n"
   ]
  },
  {
   "cell_type": "code",
   "execution_count": 72,
   "id": "2e609a7b",
   "metadata": {},
   "outputs": [
    {
     "name": "stdout",
     "output_type": "stream",
     "text": [
      "Training Score: 0.9148474783249747\n",
      "Cross-Validation Score: 0.5151117912392948\n"
     ]
    }
   ],
   "source": [
    "# Train the model on the training data\n",
    "model.fit(X_train, y_train)\n",
    "\n",
    "# Calculate training score\n",
    "training_score = model.score(X_train, y_train)\n",
    "\n",
    "# Perform 5-fold cross-validation\n",
    "cv_scores = cross_val_score(model, X_train, y_train, cv=5, scoring='r2')\n",
    "\n",
    "# Calculate Mean Cross-Validation Score\n",
    "mean_cv_score = np.mean(cv_scores)\n",
    "\n",
    "# Print scores\n",
    "print(f'Training Score: {training_score}')\n",
    "print(f'Cross-Validation Score: {mean_cv_score}')"
   ]
  },
  {
   "cell_type": "markdown",
   "id": "784b2011",
   "metadata": {},
   "source": [
    "# EVALUTION MATRICS"
   ]
  },
  {
   "cell_type": "code",
   "execution_count": 73,
   "id": "f11d7509",
   "metadata": {},
   "outputs": [
    {
     "name": "stdout",
     "output_type": "stream",
     "text": [
      "MAE: 111.25869732667071\n",
      "MSE: 20371.01827375029\n",
      "R2: 0.5328982995059584\n"
     ]
    }
   ],
   "source": [
    "from sklearn.metrics import mean_absolute_error, mean_squared_error, r2_score\n",
    "\n",
    "# Assuming you have already trained your model and made predictions\n",
    "predict_val = model.predict(X_test)\n",
    "\n",
    "MAE = mean_absolute_error(y_test, predict_val)\n",
    "MSE = mean_squared_error(y_test, predict_val)\n",
    "r2 = r2_score(y_test, predict_val)\n",
    "\n",
    "print(\"MAE:\", MAE)\n",
    "print(\"MSE:\", MSE)\n",
    "print(\"R2:\", r2)\n"
   ]
  },
  {
   "cell_type": "code",
   "execution_count": 74,
   "id": "b34890c5",
   "metadata": {},
   "outputs": [
    {
     "name": "stdout",
     "output_type": "stream",
     "text": [
      "Mean Squared Error: 20371.01827375029\n",
      "R-squared: 0.5328982995059584\n"
     ]
    }
   ],
   "source": [
    "from sklearn.metrics import mean_squared_error, r2_score\n",
    "\n",
    "mse = mean_squared_error(y_test, y_pred)\n",
    "r_squared = r2_score(y_test, y_pred)\n",
    "# (The R-squared value will be between 0 and 1, where higher values indicate a better fit of the model to the data.)\n",
    "\n",
    "print(f\"Mean Squared Error: {mse}\")\n",
    "print(f\"R-squared: {r_squared}\")"
   ]
  },
  {
   "cell_type": "code",
   "execution_count": 75,
   "id": "93d6201a",
   "metadata": {},
   "outputs": [],
   "source": [
    "# The code you've provided is an example of a Python dictionary called param_grid. This dictionary is commonly used in the context of hyperparameter tuning for machine learning models, particularly for decision trees and random forests. Let me explain each part of the param_grid dictionary:\n",
    "\n",
    "# 'max_depth': This is a hyperparameter for decision trees and random forests that determines the maximum depth of the tree.\n",
    "#     A higher value allows the tree to be deeper, potentially capturing more complex relationships in the data. \n",
    "#     The values [2, 5, 10, 20] represent different candidate values for max_depth that you want to try during hyperparameter \n",
    "#     tuning.\n",
    "\n",
    "# 'min_samples_split': This hyperparameter specifies the minimum number of samples \n",
    "#     required to split an internal node in a decision tree or random forest. \n",
    "#     Smaller values can lead to more complex trees, while larger values can result in simpler trees.\n",
    "#     The values [2, 5, 10] represent different candidate values for min_samples_split.\n",
    "\n",
    "# 'min_samples_leaf': This hyperparameter determines the minimum number of samples \n",
    "#     required to be in a leaf node (a terminal node) of the tree.\n",
    "#     Like min_samples_split, smaller values lead to more complex trees,\n",
    "#     while larger values lead to simpler trees. The values [1, 2, 4] represent different candidate values for min_samples_leaf.\n",
    "\n",
    "# 'max_features': This hyperparameter controls the maximum number of features to consider when\n",
    "#     making a split in a decision tree or random forest. It can help prevent overfitting by limiting\n",
    "#     the number of features used at each split. The values ['auto', 'sqrt', 'log2'] represent \n",
    "#     different ways to choose the maximum number of features: 'auto' typically means using all features,\n",
    "#         'sqrt' means using the square root of the total number of features, and 'log2' means \n",
    "#         using the base-2 logarithm of the total number of features.\n",
    "\n",
    "# The purpose of this param_grid dictionary is to define a grid of hyperparameters\n",
    "# and their potential values that you want to search through during a hyperparameter tuning process.\n",
    "# Techniques like grid search or random search can use this grid to systematically explore different\n",
    "# combinations of hyperparameters to find the set of hyperparameters that result in the best model\n",
    "# performance on a validation dataset. This helps in optimizing the model for a specific machine\n",
    "# learning task by selecting the most suitable hyperparameters from the provided options."
   ]
  },
  {
   "cell_type": "code",
   "execution_count": null,
   "id": "dac7dd72",
   "metadata": {},
   "outputs": [],
   "source": []
  },
  {
   "cell_type": "code",
   "execution_count": 78,
   "id": "676abf5d",
   "metadata": {},
   "outputs": [
    {
     "name": "stdout",
     "output_type": "stream",
     "text": [
      "Best hyperparameters: {'max_depth': 20, 'max_features': 'sqrt', 'min_samples_leaf': 1, 'min_samples_split': 5}\n"
     ]
    }
   ],
   "source": [
    "from sklearn.model_selection import GridSearchCV\n",
    "from sklearn.ensemble import RandomForestRegressor\n",
    "\n",
    "# Define and train your RandomForestRegressor\n",
    "random_forest_regressor = RandomForestRegressor(n_estimators=100, random_state=42)\n",
    "random_forest_regressor.fit(X_train, y_train)  # Replace X_train and y_train with your data\n",
    "\n",
    "param_grid = {\n",
    "    'max_depth': [2, 5, 10, 20],\n",
    "    'min_samples_split': [2, 5, 10],\n",
    "    'min_samples_leaf': [1, 2, 4],\n",
    "    'max_features': ['sqrt', 'log2']\n",
    "}\n",
    "\n",
    "\n",
    "# Now you can use random_forest_regressor in GridSearchCV\n",
    "grid_search = GridSearchCV(estimator=random_forest_regressor, param_grid=param_grid, cv=5)\n",
    "grid_search.fit(X_train, y_train)\n",
    "print(\"Best hyperparameters:\", grid_search.best_params_)\n"
   ]
  },
  {
   "cell_type": "code",
   "execution_count": 79,
   "id": "b3a18dd3",
   "metadata": {},
   "outputs": [],
   "source": [
    "best_model = grid_search.best_estimator_\n",
    "y_pred = best_model.predict(X_test)"
   ]
  },
  {
   "cell_type": "code",
   "execution_count": 80,
   "id": "7b555363",
   "metadata": {},
   "outputs": [
    {
     "name": "stdout",
     "output_type": "stream",
     "text": [
      "Mean squared error: 18533.148513533026\n",
      "R-squared: 0.5750401344769805\n"
     ]
    }
   ],
   "source": [
    "# evalution metrics\n",
    "mse = mean_squared_error(y_test, y_pred)\n",
    "r2 = r2_score(y_test, y_pred)\n",
    "print('Mean squared error:', mse)\n",
    "print('R-squared:', r2)"
   ]
  },
  {
   "cell_type": "code",
   "execution_count": 81,
   "id": "ff0deb15",
   "metadata": {},
   "outputs": [],
   "source": [
    "# Saving the model\n",
    "import pickle\n",
    "with open('model.pkl', 'wb') as file:\n",
    "    pickle.dump(best_model, file)\n",
    "with open('scaler.pkl', 'wb') as f:\n",
    "    pickle.dump(scaler, f)\n",
    "with open('t.pkl', 'wb') as f:\n",
    "    pickle.dump(one_hot_encoded, f)\n",
    "with open('s.pkl', 'wb') as f:\n",
    "    pickle.dump(one_hot_encoded, f)"
   ]
  },
  {
   "cell_type": "code",
   "execution_count": 82,
   "id": "7d4e75e5",
   "metadata": {},
   "outputs": [
    {
     "data": {
      "text/plain": [
       "Index(['id', 'item_date', 'quantity tons', 'customer', 'country',\n",
       "       'application', 'thickness', 'width', 'material_ref', 'product_ref',\n",
       "       'delivery date', 'selling_price', 'thickness_log', 'width_log',\n",
       "       'quantity_tons_log', 'application_log', 'item type_Others',\n",
       "       'item type_PL', 'item type_S', 'item type_W', 'item type_WI',\n",
       "       'status_Lost', 'status_Not lost for AM', 'status_Offerable',\n",
       "       'status_Offered', 'status_Revised', 'status_To be approved',\n",
       "       'status_Won'],\n",
       "      dtype='object')"
      ]
     },
     "execution_count": 82,
     "metadata": {},
     "output_type": "execute_result"
    }
   ],
   "source": [
    "one_hot_encoded.columns"
   ]
  },
  {
   "cell_type": "code",
   "execution_count": 83,
   "id": "5c138292",
   "metadata": {},
   "outputs": [
    {
     "data": {
      "text/html": [
       "<div>\n",
       "<style scoped>\n",
       "    .dataframe tbody tr th:only-of-type {\n",
       "        vertical-align: middle;\n",
       "    }\n",
       "\n",
       "    .dataframe tbody tr th {\n",
       "        vertical-align: top;\n",
       "    }\n",
       "\n",
       "    .dataframe thead th {\n",
       "        text-align: right;\n",
       "    }\n",
       "</style>\n",
       "<table border=\"1\" class=\"dataframe\">\n",
       "  <thead>\n",
       "    <tr style=\"text-align: right;\">\n",
       "      <th></th>\n",
       "      <th>id</th>\n",
       "      <th>item_date</th>\n",
       "      <th>quantity tons</th>\n",
       "      <th>customer</th>\n",
       "      <th>country</th>\n",
       "      <th>application</th>\n",
       "      <th>thickness</th>\n",
       "      <th>width</th>\n",
       "      <th>material_ref</th>\n",
       "      <th>product_ref</th>\n",
       "      <th>...</th>\n",
       "      <th>item type_S</th>\n",
       "      <th>item type_W</th>\n",
       "      <th>item type_WI</th>\n",
       "      <th>status_Lost</th>\n",
       "      <th>status_Not lost for AM</th>\n",
       "      <th>status_Offerable</th>\n",
       "      <th>status_Offered</th>\n",
       "      <th>status_Revised</th>\n",
       "      <th>status_To be approved</th>\n",
       "      <th>status_Won</th>\n",
       "    </tr>\n",
       "  </thead>\n",
       "  <tbody>\n",
       "    <tr>\n",
       "      <th>0</th>\n",
       "      <td>EC06F063-9DF0-440C-8764-0B0C05A4F6AE</td>\n",
       "      <td>1970-01-01 00:00:00.020210401</td>\n",
       "      <td>54.151139</td>\n",
       "      <td>30156308.0</td>\n",
       "      <td>28.0</td>\n",
       "      <td>10.0</td>\n",
       "      <td>2.00</td>\n",
       "      <td>1500.0</td>\n",
       "      <td>DEQ1 S460MC</td>\n",
       "      <td>1670798778</td>\n",
       "      <td>...</td>\n",
       "      <td>0</td>\n",
       "      <td>1</td>\n",
       "      <td>0</td>\n",
       "      <td>0</td>\n",
       "      <td>0</td>\n",
       "      <td>0</td>\n",
       "      <td>0</td>\n",
       "      <td>0</td>\n",
       "      <td>0</td>\n",
       "      <td>1</td>\n",
       "    </tr>\n",
       "    <tr>\n",
       "      <th>2</th>\n",
       "      <td>E140FF1B-2407-4C02-A0DD-780A093B1158</td>\n",
       "      <td>1970-01-01 00:00:00.020210401</td>\n",
       "      <td>171.759354</td>\n",
       "      <td>30153963.0</td>\n",
       "      <td>30.0</td>\n",
       "      <td>28.0</td>\n",
       "      <td>0.38</td>\n",
       "      <td>952.0</td>\n",
       "      <td>S0380700</td>\n",
       "      <td>628377</td>\n",
       "      <td>...</td>\n",
       "      <td>0</td>\n",
       "      <td>0</td>\n",
       "      <td>1</td>\n",
       "      <td>0</td>\n",
       "      <td>0</td>\n",
       "      <td>0</td>\n",
       "      <td>0</td>\n",
       "      <td>0</td>\n",
       "      <td>0</td>\n",
       "      <td>1</td>\n",
       "    </tr>\n",
       "    <tr>\n",
       "      <th>3</th>\n",
       "      <td>F8D507A0-9C62-4EFE-831E-33E1DA53BB50</td>\n",
       "      <td>1970-01-01 00:00:00.020210401</td>\n",
       "      <td>171.759354</td>\n",
       "      <td>30349574.0</td>\n",
       "      <td>32.0</td>\n",
       "      <td>59.0</td>\n",
       "      <td>2.30</td>\n",
       "      <td>1317.0</td>\n",
       "      <td>DX51D+ZM310MAO 2.3X1317</td>\n",
       "      <td>1668701718</td>\n",
       "      <td>...</td>\n",
       "      <td>1</td>\n",
       "      <td>0</td>\n",
       "      <td>0</td>\n",
       "      <td>0</td>\n",
       "      <td>0</td>\n",
       "      <td>0</td>\n",
       "      <td>0</td>\n",
       "      <td>0</td>\n",
       "      <td>0</td>\n",
       "      <td>1</td>\n",
       "    </tr>\n",
       "    <tr>\n",
       "      <th>4</th>\n",
       "      <td>4E1C4E78-152B-430A-8094-ADD889C9D0AD</td>\n",
       "      <td>1970-01-01 00:00:00.020210401</td>\n",
       "      <td>171.759354</td>\n",
       "      <td>30211560.0</td>\n",
       "      <td>28.0</td>\n",
       "      <td>10.0</td>\n",
       "      <td>4.00</td>\n",
       "      <td>1989.0</td>\n",
       "      <td>2_S275JR+AR-CL1</td>\n",
       "      <td>640665</td>\n",
       "      <td>...</td>\n",
       "      <td>0</td>\n",
       "      <td>1</td>\n",
       "      <td>0</td>\n",
       "      <td>0</td>\n",
       "      <td>0</td>\n",
       "      <td>0</td>\n",
       "      <td>0</td>\n",
       "      <td>0</td>\n",
       "      <td>0</td>\n",
       "      <td>1</td>\n",
       "    </tr>\n",
       "    <tr>\n",
       "      <th>6</th>\n",
       "      <td>E1B47219-42C8-411D-AE46-AD5256DC4757</td>\n",
       "      <td>1970-01-01 00:00:00.020210401</td>\n",
       "      <td>3.522613</td>\n",
       "      <td>30209509.0</td>\n",
       "      <td>30.0</td>\n",
       "      <td>41.0</td>\n",
       "      <td>0.38</td>\n",
       "      <td>1125.0</td>\n",
       "      <td>NBW_L+_A_1125_0.4</td>\n",
       "      <td>611993</td>\n",
       "      <td>...</td>\n",
       "      <td>0</td>\n",
       "      <td>1</td>\n",
       "      <td>0</td>\n",
       "      <td>0</td>\n",
       "      <td>0</td>\n",
       "      <td>0</td>\n",
       "      <td>0</td>\n",
       "      <td>0</td>\n",
       "      <td>0</td>\n",
       "      <td>0</td>\n",
       "    </tr>\n",
       "    <tr>\n",
       "      <th>...</th>\n",
       "      <td>...</td>\n",
       "      <td>...</td>\n",
       "      <td>...</td>\n",
       "      <td>...</td>\n",
       "      <td>...</td>\n",
       "      <td>...</td>\n",
       "      <td>...</td>\n",
       "      <td>...</td>\n",
       "      <td>...</td>\n",
       "      <td>...</td>\n",
       "      <td>...</td>\n",
       "      <td>...</td>\n",
       "      <td>...</td>\n",
       "      <td>...</td>\n",
       "      <td>...</td>\n",
       "      <td>...</td>\n",
       "      <td>...</td>\n",
       "      <td>...</td>\n",
       "      <td>...</td>\n",
       "      <td>...</td>\n",
       "      <td>...</td>\n",
       "    </tr>\n",
       "    <tr>\n",
       "      <th>181601</th>\n",
       "      <td>9520F0DD-4EA3-4D35-B23A-35908C5E77CA</td>\n",
       "      <td>1970-01-01 00:00:00.020200702</td>\n",
       "      <td>3.739726</td>\n",
       "      <td>30267349.0</td>\n",
       "      <td>84.0</td>\n",
       "      <td>10.0</td>\n",
       "      <td>2.00</td>\n",
       "      <td>1500.0</td>\n",
       "      <td>1S220A100P6FSB</td>\n",
       "      <td>164141591</td>\n",
       "      <td>...</td>\n",
       "      <td>0</td>\n",
       "      <td>1</td>\n",
       "      <td>0</td>\n",
       "      <td>0</td>\n",
       "      <td>0</td>\n",
       "      <td>0</td>\n",
       "      <td>0</td>\n",
       "      <td>1</td>\n",
       "      <td>0</td>\n",
       "      <td>0</td>\n",
       "    </tr>\n",
       "    <tr>\n",
       "      <th>181602</th>\n",
       "      <td>D85912F7-0002-4EC5-9CFD-AD3803F44D91</td>\n",
       "      <td>1970-01-01 00:00:00.020200702</td>\n",
       "      <td>20.155119</td>\n",
       "      <td>30267349.0</td>\n",
       "      <td>84.0</td>\n",
       "      <td>10.0</td>\n",
       "      <td>2.00</td>\n",
       "      <td>1500.0</td>\n",
       "      <td>1S220A100P6FSA</td>\n",
       "      <td>164141591</td>\n",
       "      <td>...</td>\n",
       "      <td>0</td>\n",
       "      <td>1</td>\n",
       "      <td>0</td>\n",
       "      <td>0</td>\n",
       "      <td>0</td>\n",
       "      <td>0</td>\n",
       "      <td>0</td>\n",
       "      <td>1</td>\n",
       "      <td>0</td>\n",
       "      <td>0</td>\n",
       "    </tr>\n",
       "    <tr>\n",
       "      <th>181603</th>\n",
       "      <td>E6A94878-F80E-4852-A217-928D6D9C4A28</td>\n",
       "      <td>1970-01-01 00:00:00.020200702</td>\n",
       "      <td>15.742266</td>\n",
       "      <td>30267349.0</td>\n",
       "      <td>84.0</td>\n",
       "      <td>10.0</td>\n",
       "      <td>2.00</td>\n",
       "      <td>1000.0</td>\n",
       "      <td>1S220A100P6FSA</td>\n",
       "      <td>164141591</td>\n",
       "      <td>...</td>\n",
       "      <td>0</td>\n",
       "      <td>1</td>\n",
       "      <td>0</td>\n",
       "      <td>0</td>\n",
       "      <td>0</td>\n",
       "      <td>0</td>\n",
       "      <td>0</td>\n",
       "      <td>1</td>\n",
       "      <td>0</td>\n",
       "      <td>0</td>\n",
       "    </tr>\n",
       "    <tr>\n",
       "      <th>181604</th>\n",
       "      <td>B40F8127-D4AC-44B6-B200-FED2690EA8EF</td>\n",
       "      <td>1970-01-01 00:00:00.020200702</td>\n",
       "      <td>16.391009</td>\n",
       "      <td>30267349.0</td>\n",
       "      <td>84.0</td>\n",
       "      <td>10.0</td>\n",
       "      <td>2.00</td>\n",
       "      <td>1250.0</td>\n",
       "      <td>1S220A100P6FSA</td>\n",
       "      <td>164141591</td>\n",
       "      <td>...</td>\n",
       "      <td>0</td>\n",
       "      <td>1</td>\n",
       "      <td>0</td>\n",
       "      <td>0</td>\n",
       "      <td>0</td>\n",
       "      <td>0</td>\n",
       "      <td>0</td>\n",
       "      <td>1</td>\n",
       "      <td>0</td>\n",
       "      <td>0</td>\n",
       "    </tr>\n",
       "    <tr>\n",
       "      <th>181605</th>\n",
       "      <td>3BCD0A7E-A2D9-40B1-8A86-35439AEDDFF3</td>\n",
       "      <td>1970-01-01 00:00:00.020200702</td>\n",
       "      <td>34.426799</td>\n",
       "      <td>30201369.0</td>\n",
       "      <td>25.0</td>\n",
       "      <td>41.0</td>\n",
       "      <td>0.60</td>\n",
       "      <td>1288.0</td>\n",
       "      <td>202006170005.IO.1.1</td>\n",
       "      <td>611993</td>\n",
       "      <td>...</td>\n",
       "      <td>1</td>\n",
       "      <td>0</td>\n",
       "      <td>0</td>\n",
       "      <td>0</td>\n",
       "      <td>0</td>\n",
       "      <td>0</td>\n",
       "      <td>0</td>\n",
       "      <td>0</td>\n",
       "      <td>0</td>\n",
       "      <td>1</td>\n",
       "    </tr>\n",
       "  </tbody>\n",
       "</table>\n",
       "<p>81024 rows × 28 columns</p>\n",
       "</div>"
      ],
      "text/plain": [
       "                                          id                     item_date   \n",
       "0       EC06F063-9DF0-440C-8764-0B0C05A4F6AE 1970-01-01 00:00:00.020210401  \\\n",
       "2       E140FF1B-2407-4C02-A0DD-780A093B1158 1970-01-01 00:00:00.020210401   \n",
       "3       F8D507A0-9C62-4EFE-831E-33E1DA53BB50 1970-01-01 00:00:00.020210401   \n",
       "4       4E1C4E78-152B-430A-8094-ADD889C9D0AD 1970-01-01 00:00:00.020210401   \n",
       "6       E1B47219-42C8-411D-AE46-AD5256DC4757 1970-01-01 00:00:00.020210401   \n",
       "...                                      ...                           ...   \n",
       "181601  9520F0DD-4EA3-4D35-B23A-35908C5E77CA 1970-01-01 00:00:00.020200702   \n",
       "181602  D85912F7-0002-4EC5-9CFD-AD3803F44D91 1970-01-01 00:00:00.020200702   \n",
       "181603  E6A94878-F80E-4852-A217-928D6D9C4A28 1970-01-01 00:00:00.020200702   \n",
       "181604  B40F8127-D4AC-44B6-B200-FED2690EA8EF 1970-01-01 00:00:00.020200702   \n",
       "181605  3BCD0A7E-A2D9-40B1-8A86-35439AEDDFF3 1970-01-01 00:00:00.020200702   \n",
       "\n",
       "        quantity tons    customer  country  application  thickness   width   \n",
       "0           54.151139  30156308.0     28.0         10.0       2.00  1500.0  \\\n",
       "2          171.759354  30153963.0     30.0         28.0       0.38   952.0   \n",
       "3          171.759354  30349574.0     32.0         59.0       2.30  1317.0   \n",
       "4          171.759354  30211560.0     28.0         10.0       4.00  1989.0   \n",
       "6            3.522613  30209509.0     30.0         41.0       0.38  1125.0   \n",
       "...               ...         ...      ...          ...        ...     ...   \n",
       "181601       3.739726  30267349.0     84.0         10.0       2.00  1500.0   \n",
       "181602      20.155119  30267349.0     84.0         10.0       2.00  1500.0   \n",
       "181603      15.742266  30267349.0     84.0         10.0       2.00  1000.0   \n",
       "181604      16.391009  30267349.0     84.0         10.0       2.00  1250.0   \n",
       "181605      34.426799  30201369.0     25.0         41.0       0.60  1288.0   \n",
       "\n",
       "                   material_ref  product_ref  ... item type_S  item type_W   \n",
       "0                   DEQ1 S460MC   1670798778  ...           0            1  \\\n",
       "2                      S0380700       628377  ...           0            0   \n",
       "3       DX51D+ZM310MAO 2.3X1317   1668701718  ...           1            0   \n",
       "4               2_S275JR+AR-CL1       640665  ...           0            1   \n",
       "6             NBW_L+_A_1125_0.4       611993  ...           0            1   \n",
       "...                         ...          ...  ...         ...          ...   \n",
       "181601           1S220A100P6FSB    164141591  ...           0            1   \n",
       "181602           1S220A100P6FSA    164141591  ...           0            1   \n",
       "181603           1S220A100P6FSA    164141591  ...           0            1   \n",
       "181604           1S220A100P6FSA    164141591  ...           0            1   \n",
       "181605      202006170005.IO.1.1       611993  ...           1            0   \n",
       "\n",
       "        item type_WI  status_Lost  status_Not lost for AM  status_Offerable   \n",
       "0                  0            0                       0                 0  \\\n",
       "2                  1            0                       0                 0   \n",
       "3                  0            0                       0                 0   \n",
       "4                  0            0                       0                 0   \n",
       "6                  0            0                       0                 0   \n",
       "...              ...          ...                     ...               ...   \n",
       "181601             0            0                       0                 0   \n",
       "181602             0            0                       0                 0   \n",
       "181603             0            0                       0                 0   \n",
       "181604             0            0                       0                 0   \n",
       "181605             0            0                       0                 0   \n",
       "\n",
       "        status_Offered  status_Revised  status_To be approved  status_Won  \n",
       "0                    0               0                      0           1  \n",
       "2                    0               0                      0           1  \n",
       "3                    0               0                      0           1  \n",
       "4                    0               0                      0           1  \n",
       "6                    0               0                      0           0  \n",
       "...                ...             ...                    ...         ...  \n",
       "181601               0               1                      0           0  \n",
       "181602               0               1                      0           0  \n",
       "181603               0               1                      0           0  \n",
       "181604               0               1                      0           0  \n",
       "181605               0               0                      0           1  \n",
       "\n",
       "[81024 rows x 28 columns]"
      ]
     },
     "execution_count": 83,
     "metadata": {},
     "output_type": "execute_result"
    }
   ],
   "source": [
    "one_hot_encoded"
   ]
  },
  {
   "cell_type": "code",
   "execution_count": 84,
   "id": "6552ebe6",
   "metadata": {},
   "outputs": [],
   "source": [
    "pd.set_option('display.max_columns', 500)"
   ]
  },
  {
   "cell_type": "code",
   "execution_count": 85,
   "id": "fdfc545e",
   "metadata": {},
   "outputs": [
    {
     "name": "stdout",
     "output_type": "stream",
     "text": [
      "Predicted selling price: [640.01840516]\n"
     ]
    }
   ],
   "source": [
    "new_sample = np.array([[1.386294, 12.576069, 8.880757, 4.077537, 0,0,0,1,0,0,0,0,0,0,0,1]])\n",
    "# new_sample_ohe = one_hot_encoded.transform(new_sample[:, [7]]).toarray()\n",
    "# new_sample_be = one_hot_encoded.transform(new_sample[:, [8]]).toarray()\n",
    "# new_sample = np.concatenate((new_sample[:, [0,1,2, 3, 4, 5, 6,]], new_sample_ohe, new_sample_be), axis=1)\n",
    "new_sample1 = scaler.transform(new_sample)\n",
    "new_pred = best_model.predict(new_sample1)\n",
    "print('Predicted selling price:', (new_pred))"
   ]
  },
  {
   "cell_type": "code",
   "execution_count": null,
   "id": "45417acc",
   "metadata": {},
   "outputs": [],
   "source": []
  }
 ],
 "metadata": {
  "kernelspec": {
   "display_name": "Python 3 (ipykernel)",
   "language": "python",
   "name": "python3"
  },
  "language_info": {
   "codemirror_mode": {
    "name": "ipython",
    "version": 3
   },
   "file_extension": ".py",
   "mimetype": "text/x-python",
   "name": "python",
   "nbconvert_exporter": "python",
   "pygments_lexer": "ipython3",
   "version": "3.11.3"
  }
 },
 "nbformat": 4,
 "nbformat_minor": 5
}
